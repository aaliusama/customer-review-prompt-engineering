{
 "cells": [
  {
   "cell_type": "markdown",
   "id": "307f301d",
   "metadata": {},
   "source": [
    "# Ali Usama\n",
    "# Deep Learning ECBS5200\n",
    "# Prof. Eduardo Arino de la Rubia\n",
    "# 23 May 2024"
   ]
  },
  {
   "cell_type": "markdown",
   "id": "452359e0",
   "metadata": {},
   "source": [
    "## Load Important Libraries"
   ]
  },
  {
   "cell_type": "code",
   "execution_count": 71,
   "id": "322fcdc5",
   "metadata": {},
   "outputs": [],
   "source": [
    "import os\n",
    "import pandas as pd\n",
    "import openai\n",
    "import textwrap\n",
    "import time\n",
    "import random\n",
    "from collections import deque\n",
    "from openai import OpenAI\n",
    "from sklearn.metrics import accuracy_score, f1_score, confusion_matrix, classification_report\n",
    "import tqdm\n"
   ]
  },
  {
   "cell_type": "markdown",
   "id": "53273d26",
   "metadata": {},
   "source": [
    "# Setup and Load Data\n"
   ]
  },
  {
   "cell_type": "code",
   "execution_count": null,
   "id": "701e0928",
   "metadata": {},
   "outputs": [
    {
     "name": "stdout",
     "output_type": "stream",
     "text": [
      "Loaded 250 reviews. Columns: ['Date', 'Rating', 'Reviews']\n"
     ]
    }
   ],
   "source": [
    "#API keys\n",
    "\n",
    "with open(\"openai_api.txt\") as f:\n",
    "    openai.api_key = f.read().strip()\n",
    "\n",
    "import google.generativeai as genai\n",
    "with open(\"gemini_api.txt\") as f:\n",
    "    genai.configure(api_key=f.read().strip())\n",
    "GEMINI_MODEL = genai.GenerativeModel(\"gemini-1.5-flash-latest\")\n",
    "\n",
    "# Load dataset\n",
    "df = pd.read_csv(\"Pulp Fiction (Movie) - Imdb Reviews (250).csv\")\n",
    "print(f\"Loaded {len(df)} reviews. Columns: {df.columns.tolist()}\")\n"
   ]
  },
  {
   "cell_type": "markdown",
   "id": "be71aea1",
   "metadata": {},
   "source": [
    "# Task A: Sentiment"
   ]
  },
  {
   "cell_type": "markdown",
   "id": "6f1373b1",
   "metadata": {},
   "source": [
    "## Prompt v1 (Baseline)\n"
   ]
  },
  {
   "cell_type": "code",
   "execution_count": 31,
   "id": "bed987e4",
   "metadata": {},
   "outputs": [
    {
     "name": "stdout",
     "output_type": "stream",
     "text": [
      "\n",
      "You are a film-review analyst.\n",
      "Classify the sentiment of the review below as Positive, Neutral, or Negative.\n",
      "Return only the label.\n",
      "Review:\n",
      "\"\"\"This movie will change you, as some have commented. It will bring you to a disgusting low. Definitely skip it, or you'll be sorry you didn't.It's a sickening wretchingly vile voyueristic wannabe false glorification.Skip it. In fact be happy to skip it. Sometimes I think we have a big pile of juvenile retards on IMDb, that only hope to vote for any movie along the lines of it's inherent jerry springer qualities and the judgement comes as a message about how low and worthless it can get.This movie is not entertaining, it is not nice, it is not realistic, it is racist, degrading, and stupid.Don't waste your money, your time, or your life.\"\"\"\n",
      "\n"
     ]
    }
   ],
   "source": [
    "def sentiment_v1(review_text: str) -> str:\n",
    "    return textwrap.dedent(f\"\"\"\n",
    "        You are a film-review analyst.\n",
    "        Classify the sentiment of the review below as Positive, Neutral, or Negative.\n",
    "        Return only the label.\n",
    "        Review:\n",
    "        \\\"\\\"\\\"{review_text}\\\"\\\"\\\"\n",
    "    \"\"\")\n",
    "\n",
    "# Sanity check\n",
    "sample = df[\"Reviews\"].iloc[0]\n",
    "print(sentiment_v1(sample))\n"
   ]
  },
  {
   "cell_type": "markdown",
   "id": "60cd3e4d",
   "metadata": {},
   "source": [
    "## Inference with Prompt v1 - OpenAI (GPT-4.1 nano)\n"
   ]
  },
  {
   "cell_type": "code",
   "execution_count": null,
   "id": "58397024",
   "metadata": {},
   "outputs": [
    {
     "name": "stdout",
     "output_type": "stream",
     "text": [
      "OpenAI Example 0: Positive\n",
      "OpenAI Example 1: Positive\n",
      "OpenAI Example 2: Positive\n",
      "OpenAI Example 3: Negative\n",
      "OpenAI Example 4: Negative\n",
      "OpenAI Example 5: Negative\n",
      "OpenAI Example 6: Positive\n",
      "OpenAI Example 7: Positive\n",
      "OpenAI Example 8: Positive\n",
      "OpenAI Example 9: Positive\n",
      "OpenAI Example 10: Positive\n",
      "OpenAI Example 11: Positive\n",
      "OpenAI Example 12: Negative\n",
      "OpenAI Example 13: Positive\n",
      "OpenAI Example 14: Positive\n",
      "OpenAI Example 15: Negative\n",
      "OpenAI Example 16: Positive\n",
      "OpenAI Example 17: Positive\n",
      "OpenAI Example 18: Positive\n",
      "OpenAI Example 19: Positive\n"
     ]
    }
   ],
   "source": [
    "# Run OpenAI on Prompt v1 for a 20-review subset\n",
    "\n",
    "random.seed(42)\n",
    "subset = df.sample(20, random_state=42).reset_index(drop=True)\n",
    "\n",
    "def call_openai(prompt: str, temperature: float = 0.2) -> str:\n",
    "    from openai import OpenAI\n",
    "    client = OpenAI(api_key=openai.api_key)\n",
    "    resp = client.chat.completions.create(\n",
    "        model=\"gpt-4.1-nano\",\n",
    "        messages=[\n",
    "            {\"role\": \"system\", \"content\": \"You are a helpful assistant.\"},\n",
    "            {\"role\": \"user\",   \"content\": prompt},\n",
    "        ],\n",
    "        temperature=temperature,\n",
    "        max_tokens=50,\n",
    "    )\n",
    "    return resp.choices[0].message.content.strip()\n",
    "\n",
    "openai_v1_labels = []\n",
    "for review in subset[\"Reviews\"]:\n",
    "    prompt = sentiment_v1(review)\n",
    "    openai_v1_labels.append(call_openai(prompt))\n",
    "\n",
    "\n",
    "for i, lbl in enumerate(openai_v1_labels):\n",
    "    print(f\"OpenAI Example {i}: {lbl}\")\n"
   ]
  },
  {
   "cell_type": "markdown",
   "id": "120e7441",
   "metadata": {},
   "source": [
    "## Inference with Prompt v1 - Gemini Flash\n"
   ]
  },
  {
   "cell_type": "markdown",
   "id": "a7b0077d",
   "metadata": {},
   "source": [
    "Call Gemini Flash while respecting a rolling RPM limit."
   ]
  },
  {
   "cell_type": "code",
   "execution_count": 44,
   "id": "e26ebc30",
   "metadata": {},
   "outputs": [],
   "source": [
    "\n",
    "\n",
    "RPM_LIMIT = 9        \n",
    "WINDOW    = 60     \n",
    "\n",
    "_call_times = deque()   \n",
    "\n",
    "def gemini_throttled(prompt: str, temperature: float = 0.2) -> str:\n",
    "    global _call_times\n",
    "    while True:\n",
    "        now = time.time()\n",
    "        # Drop timestamps older than WINDOW seconds\n",
    "        while _call_times and now - _call_times[0] > WINDOW:\n",
    "            _call_times.popleft()\n",
    "\n",
    "        if len(_call_times) < RPM_LIMIT:\n",
    "            break      # safe to call\n",
    "\n",
    "        # Need to wait until the earliest call falls out of the window\n",
    "        sleep_for = WINDOW - (now - _call_times[0]) + 0.1\n",
    "        print(f\"[Throttle] Sleeping {sleep_for:.1f}s to stay within {RPM_LIMIT} RPM…\")\n",
    "        time.sleep(sleep_for)\n",
    "\n",
    "    try:\n",
    "        resp = GEMINI_MODEL.generate_content(\n",
    "            prompt,\n",
    "            generation_config={\"temperature\": temperature, \"max_output_tokens\": 50},\n",
    "        )\n",
    "        _call_times.append(time.time())\n",
    "        return resp.text.strip()\n",
    "    except Exception as e:\n",
    "        # Any non-rate error\n",
    "        return f\"ERROR:{type(e).__name__}\"\n"
   ]
  },
  {
   "cell_type": "markdown",
   "id": "52013ab7",
   "metadata": {},
   "source": [
    "Throttled caller"
   ]
  },
  {
   "cell_type": "code",
   "execution_count": null,
   "id": "96d246df",
   "metadata": {},
   "outputs": [
    {
     "name": "stdout",
     "output_type": "stream",
     "text": [
      "[Throttle] Sleeping 56.7s to stay within 9 RPM…\n",
      "[Throttle] Sleeping 0.3s to stay within 9 RPM…\n",
      "[Throttle] Sleeping 56.8s to stay within 9 RPM…\n",
      "Gemini Example 0: Positive\n",
      "Gemini Example 1: Positive\n",
      "Gemini Example 2: Positive\n",
      "Gemini Example 3: Negative\n",
      "Gemini Example 4: Positive\n",
      "Gemini Example 5: Negative\n",
      "Gemini Example 6: Positive\n",
      "Gemini Example 7: Positive\n",
      "Gemini Example 8: Positive\n",
      "Gemini Example 9: Positive\n",
      "Gemini Example 10: Positive\n",
      "Gemini Example 11: Positive\n",
      "Gemini Example 12: Negative\n",
      "Gemini Example 13: Positive\n",
      "Gemini Example 14: Positive\n",
      "Gemini Example 15: Negative\n",
      "Gemini Example 16: Positive\n",
      "Gemini Example 17: Positive\n",
      "Gemini Example 18: Positive\n",
      "Gemini Example 19: Positive\n"
     ]
    }
   ],
   "source": [
    "gemini_v1_labels = []\n",
    "for review in subset[\"Reviews\"]:\n",
    "    prompt = sentiment_v1(review)\n",
    "    lbl = gemini_throttled(prompt)  \n",
    "    gemini_v1_labels.append(lbl)\n",
    "\n",
    "for i, lbl in enumerate(gemini_v1_labels):\n",
    "    print(f\"Gemini Example {i}: {lbl}\")\n"
   ]
  },
  {
   "cell_type": "markdown",
   "id": "21897b98",
   "metadata": {},
   "source": [
    "Quick look at v1 results Mismatch #4 – OpenAI said Negative, Gemini said Positive. Likely a harsh review with some faint praise or sarcasm. v1 results skews positive overall. So our first refinement should strengthen negative cues and clarify sarcasm / mixed signals.\n",
    "\n",
    "\n"
   ]
  },
  {
   "cell_type": "markdown",
   "id": "44a4547a",
   "metadata": {},
   "source": [
    "**Prompt v2 rationale:**\n",
    "Explicit negative keywords tell the model to down-weight any isolated praise words Fix reviews with strong criticism but a single positive adjective. Sarcasm rule is if praise is obviously sarcastic, treat as Negative. So it helps with ironic wording. Finally mixed review rule (both praise & criticism) trets as neutral so to reduce forced positive/negative choices."
   ]
  },
  {
   "cell_type": "markdown",
   "id": "969cfd03",
   "metadata": {},
   "source": [
    "## Prompt v2 "
   ]
  },
  {
   "cell_type": "code",
   "execution_count": 35,
   "id": "4a6e2891",
   "metadata": {},
   "outputs": [],
   "source": [
    "\n",
    "def sentiment_v2(review_text: str) -> str:\n",
    "    return textwrap.dedent(f\"\"\"\\\n",
    "        You are a film-review analyst specialized in movie critiques.\n",
    "        Classify the sentiment of the review below as Positive, Neutral, or Negative.\n",
    "        • Treat clearly negative phrases (“worst”, “skip it”, “don’t waste…”, “awful”) as Negative.\n",
    "        • If praise is obviously sarcastic, treat as Negative.\n",
    "        • If the review contains a balanced mix of praise and criticism, choose Neutral.\n",
    "        Return only the label.\n",
    "        Review:\n",
    "        \\\"\\\"\\\"{review_text}\\\"\\\"\\\"\"\"\")\n"
   ]
  },
  {
   "cell_type": "markdown",
   "id": "826c341f",
   "metadata": {},
   "source": [
    "## Inference with Prompt v2"
   ]
  },
  {
   "cell_type": "code",
   "execution_count": null,
   "id": "8751f052",
   "metadata": {},
   "outputs": [
    {
     "name": "stdout",
     "output_type": "stream",
     "text": [
      "[Throttle] Sleeping 57.1s to stay within 9 RPM…\n",
      "[Throttle] Sleeping 57.1s to stay within 9 RPM…\n",
      "Ex 00  OpenAI_v2: Positive   Gemini_v2: Positive\n",
      "Ex 01  OpenAI_v2: Positive   Gemini_v2: Positive\n",
      "Ex 02  OpenAI_v2: Positive   Gemini_v2: Positive\n",
      "Ex 03  OpenAI_v2: Negative   Gemini_v2: Negative\n",
      "Ex 04  OpenAI_v2: Neutral    Gemini_v2: Positive\n",
      "Ex 05  OpenAI_v2: Negative   Gemini_v2: Negative\n",
      "Ex 06  OpenAI_v2: Positive   Gemini_v2: Positive\n",
      "Ex 07  OpenAI_v2: Positive   Gemini_v2: Positive\n",
      "Ex 08  OpenAI_v2: Positive   Gemini_v2: Positive\n",
      "Ex 09  OpenAI_v2: Positive   Gemini_v2: Positive\n",
      "Ex 10  OpenAI_v2: Positive   Gemini_v2: Positive\n",
      "Ex 11  OpenAI_v2: Positive   Gemini_v2: Positive\n",
      "Ex 12  OpenAI_v2: Negative   Gemini_v2: Negative\n",
      "Ex 13  OpenAI_v2: Positive   Gemini_v2: Positive\n",
      "Ex 14  OpenAI_v2: Positive   Gemini_v2: Positive\n",
      "Ex 15  OpenAI_v2: Neutral    Gemini_v2: Negative\n",
      "Ex 16  OpenAI_v2: Neutral    Gemini_v2: Positive\n",
      "Ex 17  OpenAI_v2: Positive   Gemini_v2: Positive\n",
      "Ex 18  OpenAI_v2: Positive   Gemini_v2: Positive\n",
      "Ex 19  OpenAI_v2: Positive   Gemini_v2: Positive\n"
     ]
    }
   ],
   "source": [
    "\n",
    "# OpenAI\n",
    "openai_v2_labels = []\n",
    "for rev in subset[\"Reviews\"]:\n",
    "    openai_v2_labels.append(call_openai(sentiment_v2(rev)))\n",
    "\n",
    "# Gemini\n",
    "gemini_v2_labels = []\n",
    "for rev in subset[\"Reviews\"]:\n",
    "    gemini_v2_labels.append(gemini_throttled(sentiment_v2(rev)))\n",
    "\n",
    "\n",
    "for i, (o2, g2) in enumerate(zip(openai_v2_labels, gemini_v2_labels)):\n",
    "    print(f\"Ex {i:02d}  OpenAI_v2: {o2:<8}   Gemini_v2: {g2}\")\n"
   ]
  },
  {
   "cell_type": "markdown",
   "id": "ebd864b3",
   "metadata": {},
   "source": [
    "**Rationale:** v2 demonstrates clear improvements over v1 by refining its ability to handle mixed reviews. While v1 exhibited inconsistencies, particularly in cases where sentiment was ambiguous or contained both praise and criticism, v2 shifts toward a more balanced interpretation. The model now correctly identifies neutral sentiments in some instances, particularly where previous versions misclassified them as negative. However, issues persist—especially with Gemini’s tendency to skew positive, ignoring criticism in reviews where a more neutral or mixed classification would be appropriate. This indicates that while v2 has made progress, further refinement is needed to clearly distinguish between neutral and positive sentiments. The key takeaway is that additional guidance, such as incorporating few-shot examples and strengthening the definition of neutrality, will be essential in the next iteration to ensure that the model captures sentiment nuances more accurately."
   ]
  },
  {
   "cell_type": "markdown",
   "id": "2cf0d687",
   "metadata": {},
   "source": [
    "## Prompt v3 "
   ]
  },
  {
   "cell_type": "code",
   "execution_count": 37,
   "id": "1bbc144d",
   "metadata": {},
   "outputs": [
    {
     "name": "stdout",
     "output_type": "stream",
     "text": [
      "You are an expert sentiment analyst. Label each review in the dataset as Positive, Neutral, or Negative based on its textual content.  \n",
      "\n",
      "Guidelines:\n",
      "Return one word only: Positive, Neutral, or Negative.\n",
      "\n",
      "Decision Rules:\n",
      "- Positive: Clear praise, enthusiasm, or recommendation.  \n",
      "- Neutral: Mixed/balanced opinions, factual statements, or sarcasm without clear negativity.  \n",
      "- Negative: Explicit criticism, disappointment, or dislike.  \n",
      "\n",
      "Examples:\n",
      "Example: \"Great acting, dull story.\" → Neutral\n",
      "Example: \"Skip this mess. Awful pacing.\" → Negative\n",
      "Example: \"A stylish masterpiece; loved every minute!\" → Positive\n",
      "\n",
      "Note: Be careful and give as much accurate results as possible. My job is on the line.                \n",
      "\n",
      "Review to classify:\n",
      "\"\"\"This movie will change you, as some have commented. It will bring you to a disgusting low. Definitely skip it, or you'll be sorry you didn't.It's a sickening wretchingly vile voyueristic wannabe false glorification.Skip it. In fact be happy to skip it. Sometimes I think we have a big pile of juvenile retards on IMDb, that only hope to vote for any movie along the lines of it's inherent jerry springer qualities and the judgement comes as a message about how low and worthless it can get.This movie is not entertaining, it is not nice, it is not realistic, it is racist, degrading, and stupid.Don't waste your money, your time, or your life.\"\"\"\n"
     ]
    }
   ],
   "source": [
    "def sentiment_v3(review_text: str) -> str:\n",
    "    return textwrap.dedent(f\"\"\"\\\n",
    "        You are an expert sentiment analyst. Label each review in the dataset as Positive, Neutral, or Negative based on its textual content.  \n",
    "\n",
    "        Guidelines:\n",
    "        Return one word only: Positive, Neutral, or Negative.\n",
    "\n",
    "        Decision Rules:\n",
    "        - Positive: Clear praise, enthusiasm, or recommendation.  \n",
    "        - Neutral: Mixed/balanced opinions, factual statements, or sarcasm without clear negativity.  \n",
    "        - Negative: Explicit criticism, disappointment, or dislike.  \n",
    "\n",
    "        Examples:\n",
    "        Example: \"Great acting, dull story.\" → Neutral\n",
    "        Example: \"Skip this mess. Awful pacing.\" → Negative\n",
    "        Example: \"A stylish masterpiece; loved every minute!\" → Positive\n",
    "        \n",
    "        Note: Be careful and give as much accurate results as possible. My job is on the line.                \n",
    "\n",
    "        Review to classify:\n",
    "        \\\"\\\"\\\"{review_text}\\\"\\\"\\\"\"\"\")\n",
    "sample = df[\"Reviews\"].iloc[0]\n",
    "print(sentiment_v3(sample))"
   ]
  },
  {
   "cell_type": "markdown",
   "id": "236c41a5",
   "metadata": {},
   "source": [
    "##  Inference with Prompt v3"
   ]
  },
  {
   "cell_type": "code",
   "execution_count": null,
   "id": "b46c89a5",
   "metadata": {},
   "outputs": [
    {
     "name": "stdout",
     "output_type": "stream",
     "text": [
      "[Throttle] Sleeping 57.0s to stay within 9 RPM…\n",
      "[Throttle] Sleeping 0.1s to stay within 9 RPM…\n",
      "[Throttle] Sleeping 56.7s to stay within 9 RPM…\n",
      "Ex 00  OpenAI_v3: Positive   Gemini_v3: Positive\n",
      "Ex 01  OpenAI_v3: Positive   Gemini_v3: Positive\n",
      "Ex 02  OpenAI_v3: Positive   Gemini_v3: Positive\n",
      "Ex 03  OpenAI_v3: Negative   Gemini_v3: Negative\n",
      "Ex 04  OpenAI_v3: Negative   Gemini_v3: Positive\n",
      "Ex 05  OpenAI_v3: Negative   Gemini_v3: Negative\n",
      "Ex 06  OpenAI_v3: Positive   Gemini_v3: Positive\n",
      "Ex 07  OpenAI_v3: Positive   Gemini_v3: Positive\n",
      "Ex 08  OpenAI_v3: Positive   Gemini_v3: Positive\n",
      "Ex 09  OpenAI_v3: Positive   Gemini_v3: Positive\n",
      "Ex 10  OpenAI_v3: Positive   Gemini_v3: Positive\n",
      "Ex 11  OpenAI_v3: Positive   Gemini_v3: Positive\n",
      "Ex 12  OpenAI_v3: Negative   Gemini_v3: Negative\n",
      "Ex 13  OpenAI_v3: Positive   Gemini_v3: Positive\n",
      "Ex 14  OpenAI_v3: Positive   Gemini_v3: Positive\n",
      "Ex 15  OpenAI_v3: Negative   Gemini_v3: Negative\n",
      "Ex 16  OpenAI_v3: Neutral    Gemini_v3: Positive\n",
      "Ex 17  OpenAI_v3: Positive   Gemini_v3: Positive\n",
      "Ex 18  OpenAI_v3: Positive   Gemini_v3: Positive\n",
      "Ex 19  OpenAI_v3: Positive   Gemini_v3: Positive\n"
     ]
    }
   ],
   "source": [
    "openai_v3_labels = [call_openai(sentiment_v3(r))  for r in subset[\"Reviews\"]]\n",
    "gemini_v3_labels = [gemini_throttled(sentiment_v3(r)) for r in subset[\"Reviews\"]]\n",
    "\n",
    "for i, (o3, g3) in enumerate(zip(openai_v3_labels, gemini_v3_labels)):\n",
    "    print(f\"Ex {i:02d}  OpenAI_v3: {o3:<8}   Gemini_v3: {g3}\")\n"
   ]
  },
  {
   "cell_type": "markdown",
   "id": "63707bdf",
   "metadata": {},
   "source": [
    "## Save the 20-review subset for manual labeling"
   ]
  },
  {
   "cell_type": "code",
   "execution_count": 38,
   "id": "f876ca9d",
   "metadata": {},
   "outputs": [
    {
     "data": {
      "text/html": [
       "<div>\n",
       "<style scoped>\n",
       "    .dataframe tbody tr th:only-of-type {\n",
       "        vertical-align: middle;\n",
       "    }\n",
       "\n",
       "    .dataframe tbody tr th {\n",
       "        vertical-align: top;\n",
       "    }\n",
       "\n",
       "    .dataframe thead th {\n",
       "        text-align: right;\n",
       "    }\n",
       "</style>\n",
       "<table border=\"1\" class=\"dataframe\">\n",
       "  <thead>\n",
       "    <tr style=\"text-align: right;\">\n",
       "      <th></th>\n",
       "      <th>Date</th>\n",
       "      <th>Rating</th>\n",
       "      <th>Reviews</th>\n",
       "      <th>gold_label</th>\n",
       "    </tr>\n",
       "  </thead>\n",
       "  <tbody>\n",
       "    <tr>\n",
       "      <th>0</th>\n",
       "      <td>24/04/2022</td>\n",
       "      <td>5</td>\n",
       "      <td>Normally, I wouldn't bother to contribute my t...</td>\n",
       "      <td></td>\n",
       "    </tr>\n",
       "    <tr>\n",
       "      <th>1</th>\n",
       "      <td>01/10/2024</td>\n",
       "      <td>10</td>\n",
       "      <td>This film is simply pure Art. Something to jus...</td>\n",
       "      <td></td>\n",
       "    </tr>\n",
       "    <tr>\n",
       "      <th>2</th>\n",
       "      <td>29/09/2022</td>\n",
       "      <td>10</td>\n",
       "      <td>There is not much that can be said about Pulp ...</td>\n",
       "      <td></td>\n",
       "    </tr>\n",
       "    <tr>\n",
       "      <th>3</th>\n",
       "      <td>18/04/2023</td>\n",
       "      <td>4</td>\n",
       "      <td>Well I had heard a lot about this movie earlie...</td>\n",
       "      <td></td>\n",
       "    </tr>\n",
       "    <tr>\n",
       "      <th>4</th>\n",
       "      <td>22/08/2022</td>\n",
       "      <td>7</td>\n",
       "      <td>I'm not into writing reviews, but IMDb asked m...</td>\n",
       "      <td></td>\n",
       "    </tr>\n",
       "  </tbody>\n",
       "</table>\n",
       "</div>"
      ],
      "text/plain": [
       "         Date  Rating                                            Reviews  \\\n",
       "0  24/04/2022       5  Normally, I wouldn't bother to contribute my t...   \n",
       "1  01/10/2024      10  This film is simply pure Art. Something to jus...   \n",
       "2  29/09/2022      10  There is not much that can be said about Pulp ...   \n",
       "3  18/04/2023       4  Well I had heard a lot about this movie earlie...   \n",
       "4  22/08/2022       7  I'm not into writing reviews, but IMDb asked m...   \n",
       "\n",
       "  gold_label  \n",
       "0             \n",
       "1             \n",
       "2             \n",
       "3             \n",
       "4             "
      ]
     },
     "metadata": {},
     "output_type": "display_data"
    }
   ],
   "source": [
    "subset_to_label = subset.copy()\n",
    "subset_to_label[\"gold_label\"] = \"\"           \n",
    "subset_to_label.to_csv(\"subset_sentiment_for_labeling.csv\", index=False)\n",
    "display(subset_to_label.head())              "
   ]
  },
  {
   "cell_type": "markdown",
   "id": "e26110d1",
   "metadata": {},
   "source": [
    "## Reloading again the mannual labels\n",
    "\n"
   ]
  },
  {
   "cell_type": "code",
   "execution_count": null,
   "id": "95aac91f",
   "metadata": {},
   "outputs": [],
   "source": [
    "labeled_subset = pd.read_csv(\"subset_sentiment_for_labeling.csv\")\n",
    "GOLD_SENTIMENT = labeled_subset[\"gold_label\"].to_dict()"
   ]
  },
  {
   "cell_type": "markdown",
   "id": "73c6e913",
   "metadata": {},
   "source": [
    "## Evaluation"
   ]
  },
  {
   "cell_type": "markdown",
   "id": "24e46c54",
   "metadata": {},
   "source": [
    "Helper to compute and print metrics"
   ]
  },
  {
   "cell_type": "code",
   "execution_count": null,
   "id": "5f482471",
   "metadata": {},
   "outputs": [],
   "source": [
    "\n",
    "def eval_preds(name, preds, gold_dict):\n",
    "    # Align\n",
    "    y_true = [gold_dict[i].title() for i in range(len(preds)) if i in gold_dict]\n",
    "    y_pred = [preds[i].title()          for i in range(len(preds)) if i in gold_dict]\n",
    "    acc    = accuracy_score(y_true, y_pred)\n",
    "    f1     = f1_score(y_true, y_pred, average=\"macro\", zero_division=0)\n",
    "    cm     = confusion_matrix(y_true, y_pred, labels=[\"Negative\",\"Neutral\",\"Positive\"])\n",
    "    print(f\"\\n=== {name} ===\")\n",
    "    print(f\"Accuracy : {acc:.3f}   Macro-F1 : {f1:.3f}\")\n",
    "    print(\"Confusion matrix:\")\n",
    "    print(pd.DataFrame(cm, index=[\"True Neg\",\"True Neu\",\"True Pos\"],\n",
    "                        columns=[\"Pred Neg\",\"Pred Neu\",\"Pred Pos\"]))\n",
    "    print(classification_report(y_true, y_pred, zero_division=0))\n"
   ]
  },
  {
   "cell_type": "markdown",
   "id": "f87a378e",
   "metadata": {},
   "source": [
    "Evaluate each prompt and model"
   ]
  },
  {
   "cell_type": "code",
   "execution_count": null,
   "id": "41860f2a",
   "metadata": {},
   "outputs": [
    {
     "name": "stdout",
     "output_type": "stream",
     "text": [
      "\n",
      "=== GPT-4.1-nano v1 ===\n",
      "Accuracy : 0.700   Macro-F1 : 0.452\n",
      "Confusion matrix:\n",
      "          Pred Neg  Pred Neu  Pred Pos\n",
      "True Neg         2         0         1\n",
      "True Neu         2         0         2\n",
      "True Pos         1         0        12\n",
      "              precision    recall  f1-score   support\n",
      "\n",
      "    Negative       0.40      0.67      0.50         3\n",
      "     Neutral       0.00      0.00      0.00         4\n",
      "    Positive       0.80      0.92      0.86        13\n",
      "\n",
      "    accuracy                           0.70        20\n",
      "   macro avg       0.40      0.53      0.45        20\n",
      "weighted avg       0.58      0.70      0.63        20\n",
      "\n",
      "\n",
      "=== Gemini Flash v1 ===\n",
      "Accuracy : 0.750   Macro-F1 : 0.489\n",
      "Confusion matrix:\n",
      "          Pred Neg  Pred Neu  Pred Pos\n",
      "True Neg         2         0         1\n",
      "True Neu         2         0         2\n",
      "True Pos         0         0        13\n",
      "              precision    recall  f1-score   support\n",
      "\n",
      "    Negative       0.50      0.67      0.57         3\n",
      "     Neutral       0.00      0.00      0.00         4\n",
      "    Positive       0.81      1.00      0.90        13\n",
      "\n",
      "    accuracy                           0.75        20\n",
      "   macro avg       0.44      0.56      0.49        20\n",
      "weighted avg       0.60      0.75      0.67        20\n",
      "\n",
      "\n",
      "=== GPT-4.1-nano v2 ===\n",
      "Accuracy : 0.700   Macro-F1 : 0.589\n",
      "Confusion matrix:\n",
      "          Pred Neg  Pred Neu  Pred Pos\n",
      "True Neg         2         0         1\n",
      "True Neu         1         1         2\n",
      "True Pos         0         2        11\n",
      "              precision    recall  f1-score   support\n",
      "\n",
      "    Negative       0.67      0.67      0.67         3\n",
      "     Neutral       0.33      0.25      0.29         4\n",
      "    Positive       0.79      0.85      0.81        13\n",
      "\n",
      "    accuracy                           0.70        20\n",
      "   macro avg       0.60      0.59      0.59        20\n",
      "weighted avg       0.68      0.70      0.69        20\n",
      "\n",
      "\n",
      "=== Gemini Flash v2 ===\n",
      "Accuracy : 0.750   Macro-F1 : 0.489\n",
      "Confusion matrix:\n",
      "          Pred Neg  Pred Neu  Pred Pos\n",
      "True Neg         2         0         1\n",
      "True Neu         2         0         2\n",
      "True Pos         0         0        13\n",
      "              precision    recall  f1-score   support\n",
      "\n",
      "    Negative       0.50      0.67      0.57         3\n",
      "     Neutral       0.00      0.00      0.00         4\n",
      "    Positive       0.81      1.00      0.90        13\n",
      "\n",
      "    accuracy                           0.75        20\n",
      "   macro avg       0.44      0.56      0.49        20\n",
      "weighted avg       0.60      0.75      0.67        20\n",
      "\n",
      "\n",
      "=== GPT-4.1-nano v3 ===\n",
      "Accuracy : 0.650   Macro-F1 : 0.438\n",
      "Confusion matrix:\n",
      "          Pred Neg  Pred Neu  Pred Pos\n",
      "True Neg         2         0         1\n",
      "True Neu         2         0         2\n",
      "True Pos         1         1        11\n",
      "              precision    recall  f1-score   support\n",
      "\n",
      "    Negative       0.40      0.67      0.50         3\n",
      "     Neutral       0.00      0.00      0.00         4\n",
      "    Positive       0.79      0.85      0.81        13\n",
      "\n",
      "    accuracy                           0.65        20\n",
      "   macro avg       0.40      0.50      0.44        20\n",
      "weighted avg       0.57      0.65      0.60        20\n",
      "\n",
      "\n",
      "=== Gemini Flash v3 ===\n",
      "Accuracy : 0.750   Macro-F1 : 0.489\n",
      "Confusion matrix:\n",
      "          Pred Neg  Pred Neu  Pred Pos\n",
      "True Neg         2         0         1\n",
      "True Neu         2         0         2\n",
      "True Pos         0         0        13\n",
      "              precision    recall  f1-score   support\n",
      "\n",
      "    Negative       0.50      0.67      0.57         3\n",
      "     Neutral       0.00      0.00      0.00         4\n",
      "    Positive       0.81      1.00      0.90        13\n",
      "\n",
      "    accuracy                           0.75        20\n",
      "   macro avg       0.44      0.56      0.49        20\n",
      "weighted avg       0.60      0.75      0.67        20\n",
      "\n"
     ]
    }
   ],
   "source": [
    "\n",
    "eval_preds(\"GPT-4.1-nano v1\", openai_v1_labels, GOLD_SENTIMENT)\n",
    "eval_preds(\"Gemini Flash v1\", gemini_v1_labels, GOLD_SENTIMENT)\n",
    "\n",
    "eval_preds(\"GPT-4.1-nano v2\", openai_v2_labels, GOLD_SENTIMENT)\n",
    "eval_preds(\"Gemini Flash v2\", gemini_v2_labels, GOLD_SENTIMENT)\n",
    "\n",
    "eval_preds(\"GPT-4.1-nano v3\", openai_v3_labels, GOLD_SENTIMENT)\n",
    "eval_preds(\"Gemini Flash v3\", gemini_v3_labels, GOLD_SENTIMENT)"
   ]
  },
  {
   "cell_type": "markdown",
   "id": "35e15105",
   "metadata": {},
   "source": [
    "Build a leaderboard DataFrame"
   ]
  },
  {
   "cell_type": "code",
   "execution_count": null,
   "id": "fdba662d",
   "metadata": {},
   "outputs": [
    {
     "name": "stdout",
     "output_type": "stream",
     "text": [
      "\n",
      "### Leaderboard ###\n"
     ]
    },
    {
     "data": {
      "text/html": [
       "<style type=\"text/css\">\n",
       "</style>\n",
       "<table id=\"T_5cad5\">\n",
       "  <thead>\n",
       "    <tr>\n",
       "      <th class=\"blank level0\" >&nbsp;</th>\n",
       "      <th id=\"T_5cad5_level0_col0\" class=\"col_heading level0 col0\" >model</th>\n",
       "      <th id=\"T_5cad5_level0_col1\" class=\"col_heading level0 col1\" >accuracy</th>\n",
       "      <th id=\"T_5cad5_level0_col2\" class=\"col_heading level0 col2\" >macro_f1</th>\n",
       "    </tr>\n",
       "  </thead>\n",
       "  <tbody>\n",
       "    <tr>\n",
       "      <th id=\"T_5cad5_level0_row0\" class=\"row_heading level0 row0\" >1</th>\n",
       "      <td id=\"T_5cad5_row0_col0\" class=\"data row0 col0\" >gemini-flash v1</td>\n",
       "      <td id=\"T_5cad5_row0_col1\" class=\"data row0 col1\" >0.750</td>\n",
       "      <td id=\"T_5cad5_row0_col2\" class=\"data row0 col2\" >0.489</td>\n",
       "    </tr>\n",
       "    <tr>\n",
       "      <th id=\"T_5cad5_level0_row1\" class=\"row_heading level0 row1\" >3</th>\n",
       "      <td id=\"T_5cad5_row1_col0\" class=\"data row1 col0\" >gemini-flash v2</td>\n",
       "      <td id=\"T_5cad5_row1_col1\" class=\"data row1 col1\" >0.750</td>\n",
       "      <td id=\"T_5cad5_row1_col2\" class=\"data row1 col2\" >0.489</td>\n",
       "    </tr>\n",
       "    <tr>\n",
       "      <th id=\"T_5cad5_level0_row2\" class=\"row_heading level0 row2\" >5</th>\n",
       "      <td id=\"T_5cad5_row2_col0\" class=\"data row2 col0\" >gemini-flash v3</td>\n",
       "      <td id=\"T_5cad5_row2_col1\" class=\"data row2 col1\" >0.750</td>\n",
       "      <td id=\"T_5cad5_row2_col2\" class=\"data row2 col2\" >0.489</td>\n",
       "    </tr>\n",
       "    <tr>\n",
       "      <th id=\"T_5cad5_level0_row3\" class=\"row_heading level0 row3\" >2</th>\n",
       "      <td id=\"T_5cad5_row3_col0\" class=\"data row3 col0\" >gpt-4.1-nano v2</td>\n",
       "      <td id=\"T_5cad5_row3_col1\" class=\"data row3 col1\" >0.700</td>\n",
       "      <td id=\"T_5cad5_row3_col2\" class=\"data row3 col2\" >0.589</td>\n",
       "    </tr>\n",
       "    <tr>\n",
       "      <th id=\"T_5cad5_level0_row4\" class=\"row_heading level0 row4\" >0</th>\n",
       "      <td id=\"T_5cad5_row4_col0\" class=\"data row4 col0\" >gpt-4.1-nano v1</td>\n",
       "      <td id=\"T_5cad5_row4_col1\" class=\"data row4 col1\" >0.700</td>\n",
       "      <td id=\"T_5cad5_row4_col2\" class=\"data row4 col2\" >0.452</td>\n",
       "    </tr>\n",
       "    <tr>\n",
       "      <th id=\"T_5cad5_level0_row5\" class=\"row_heading level0 row5\" >4</th>\n",
       "      <td id=\"T_5cad5_row5_col0\" class=\"data row5 col0\" >gpt-4.1-nano v3</td>\n",
       "      <td id=\"T_5cad5_row5_col1\" class=\"data row5 col1\" >0.650</td>\n",
       "      <td id=\"T_5cad5_row5_col2\" class=\"data row5 col2\" >0.438</td>\n",
       "    </tr>\n",
       "  </tbody>\n",
       "</table>\n"
      ],
      "text/plain": [
       "<pandas.io.formats.style.Styler at 0x163b2e8f3e0>"
      ]
     },
     "metadata": {},
     "output_type": "display_data"
    }
   ],
   "source": [
    "rows = []\n",
    "for model, preds_list in [\n",
    "    (\"gpt-4.1-nano v1\", openai_v1_labels),\n",
    "    (\"gemini-flash v1\", gemini_v1_labels),\n",
    "    (\"gpt-4.1-nano v2\", openai_v2_labels),\n",
    "    (\"gemini-flash v2\", gemini_v2_labels),\n",
    "    (\"gpt-4.1-nano v3\", openai_v3_labels),\n",
    "    (\"gemini-flash v3\", gemini_v3_labels),\n",
    "]:\n",
    "    # reuse eval logic but store numbers\n",
    "    y_true = [GOLD_SENTIMENT[i].title() for i in range(len(preds_list)) if i in GOLD_SENTIMENT]\n",
    "    y_pred = [preds_list[i].title()          for i in range(len(preds_list)) if i in GOLD_SENTIMENT]\n",
    "    rows.append({\n",
    "        \"model\": model,\n",
    "        \"accuracy\": accuracy_score(y_true, y_pred),\n",
    "        \"macro_f1\": f1_score(y_true, y_pred, average=\"macro\", zero_division=0)\n",
    "    })\n",
    "\n",
    "leader = pd.DataFrame(rows).sort_values([\"accuracy\",\"macro_f1\"], ascending=False)\n",
    "print(\"\\n### Leaderboard ###\")\n",
    "display(leader.style.format({\"accuracy\":\"{:.3f}\",\"macro_f1\":\"{:.3f}\"}))\n"
   ]
  },
  {
   "cell_type": "markdown",
   "id": "15995557",
   "metadata": {},
   "source": [
    "**Reflection:**\n",
    "\n",
    "**Best-performing prompt + model:**\n",
    "GPT-4.1-nano with sentiment_v2 achieved the strongest balance with accuracy of 0.70 and macro-f1 of 0.59. By explicitly calling out negative cues (e.g., “worst,” “skip it”), mixed-review rules, and sarcasm, it corrected the positive bias seen in v1 without over-priming neutral as in v3.\n",
    "\n",
    "**Failure cases & causes:**\n",
    "1. Neutral recall gaps: even v2 found balanced reviews challenging, often defaulting positive/negative when cues weren’t clear. This reflects both the prompt’s difficulty in defining “balanced” and the underlying model’s tendency toward majority‐class predictions.\n",
    "2. Sarcasm nuance: highly ironic phrasing sometimes still flipped labels, hinting that a purely rule-based prompt can’t catch all linguistic subtleties.\n",
    "\n",
    "**Metric limitation:**\n",
    "Macro-F1 rewards equal performance across classes, but with only 20 examples, single miscategorizations heavily shift the score. A larger, stratified test set would yield more stable estimates.\n",
    "\n",
    "**Deployment confidence:**\n",
    "With 70 % accuracy and explicit rules, this pipeline could serve as a first pass for triaging reviews, but would need human oversight on Neutral/ambiguous cases. Fine-tuning on more data or adding a fallback human-in-the-loop could raise reliability.\n",
    "\n"
   ]
  },
  {
   "cell_type": "markdown",
   "id": "ff16a223",
   "metadata": {},
   "source": [
    "## Lock in Sentiment Pipeline\n"
   ]
  },
  {
   "cell_type": "markdown",
   "id": "5771c65f",
   "metadata": {},
   "source": [
    "Final pass on the full dataset (GPT-4.1-nano + sentiment_v2)"
   ]
  },
  {
   "cell_type": "code",
   "execution_count": null,
   "id": "88bd7dc7",
   "metadata": {},
   "outputs": [],
   "source": [
    "client = OpenAI(api_key=openai.api_key)\n",
    "\n",
    "def call_openai_v2(text, t=0.2):\n",
    "    prompt = sentiment_v2(text)\n",
    "    resp   = client.chat.completions.create(\n",
    "        model=\"gpt-4.1-nano\",\n",
    "        messages=[\n",
    "            {\"role\": \"system\", \"content\": \"You are a helpful assistant.\"},\n",
    "            {\"role\": \"user\",   \"content\": prompt},\n",
    "        ],\n",
    "        temperature=t,\n",
    "        max_tokens=20,\n",
    "    )\n",
    "    return resp.choices[0].message.content.strip()"
   ]
  },
  {
   "cell_type": "code",
   "execution_count": null,
   "id": "a8ef25cc",
   "metadata": {},
   "outputs": [
    {
     "name": "stderr",
     "output_type": "stream",
     "text": [
      "Sentiment_v2 full run: 100%|██████████| 250/250 [02:11<00:00,  1.89it/s]\n"
     ]
    }
   ],
   "source": [
    "\n",
    "all_preds = []\n",
    "for i, rev in enumerate(tqdm.tqdm(df[\"Reviews\"], desc=\"Sentiment_v2 full run\")):\n",
    "    all_preds.append(call_openai_v2(rev))\n",
    "    time.sleep(0.1)        # ~10 req/sec → ~3 RPM, well below rate-limit\n"
   ]
  },
  {
   "cell_type": "code",
   "execution_count": null,
   "id": "7c521c47",
   "metadata": {},
   "outputs": [],
   "source": [
    "df_sent = df.copy()\n",
    "df_sent[\"sentiment_gpt41nano_v2\"] = all_preds\n",
    "df_sent.to_csv(\"sentiment_predictions_all_250.csv\", index=False)"
   ]
  },
  {
   "cell_type": "markdown",
   "id": "9184f064",
   "metadata": {},
   "source": [
    "# Task B: Key Complaint / Praise Extraction"
   ]
  },
  {
   "cell_type": "markdown",
   "id": "db47caf7",
   "metadata": {},
   "source": [
    "## Prompt v1 (Baseline)\n"
   ]
  },
  {
   "cell_type": "code",
   "execution_count": 45,
   "id": "01b1534d",
   "metadata": {},
   "outputs": [
    {
     "name": "stdout",
     "output_type": "stream",
     "text": [
      "Sample review:\n",
      " This movie will change you, as some have commented. It will bring you to a disgusting low. Definitely skip it, or you'll be sorry you didn't.It's a sickening wretchingly vile voyueristic wannabe false glorification.Skip it. In fact be happy to skip it. Sometimes I think we have a big pile of juvenil ...\n",
      "\n",
      "Prompt v1:\n",
      " You are a film-review analyst.\n",
      "Extract **one** sentence or phrase that best captures either the\n",
      "main complaint OR the main praise in the review below.\n",
      "Return only that snippet—no extra text.\n",
      "Review:\n",
      "\"\"\"This movie will change you, as some have commented. It will bring you to a disgusting low. Definitely skip it, or you'll be sorry you didn't.It's a sickening wretchingly vile voyueristic wannabe false glorification.Skip it. In fact be happy to skip it. Sometimes I think we have a big pile of juvenile retards on IMDb, that only hope to vote for any movie along the lines of it's inherent jerry springer qualities and the judgement comes as a message about how low and worthless it can get.This movie is not entertaining, it is not nice, it is not realistic, it is racist, degrading, and stupid.Don't waste your money, your time, or your life.\"\"\"\n"
     ]
    }
   ],
   "source": [
    "def snippet_v1(review_text: str) -> str:\n",
    "    return textwrap.dedent(f\"\"\"\\\n",
    "        You are a film-review analyst.\n",
    "        Extract **one** sentence or phrase that best captures either the\n",
    "        main complaint OR the main praise in the review below.\n",
    "        Return only that snippet—no extra text.\n",
    "        Review:\n",
    "        \\\"\\\"\\\"{review_text}\\\"\\\"\\\"\"\"\")\n",
    "\n",
    "# Sanity Check\n",
    "sample_txt = df[\"Reviews\"].iloc[0]\n",
    "print(\"Sample review:\\n\", sample_txt[:300], \"...\\n\")\n",
    "print(\"Prompt v1:\\n\", snippet_v1(sample_txt))\n"
   ]
  },
  {
   "cell_type": "markdown",
   "id": "cc963d87",
   "metadata": {},
   "source": [
    "## Inference with Prompt v1 - Gemini Flash\n"
   ]
  },
  {
   "cell_type": "markdown",
   "id": "08910831",
   "metadata": {},
   "source": [
    "Universal Gemini throttler (gemini_safe)"
   ]
  },
  {
   "cell_type": "code",
   "execution_count": 46,
   "id": "ec3e2134",
   "metadata": {},
   "outputs": [],
   "source": [
    "\n",
    "import time, collections, google.api_core.exceptions as gexc\n",
    "\n",
    "RPM_LIMIT = 14        \n",
    "WINDOW    = 60       \n",
    "MAX_DAY   = 500         \n",
    "\n",
    "_call_times = collections.deque()   \n",
    "_total_calls = 0                    \n",
    "\n",
    "def gemini_safe(prompt: str, temperature: float = 0.2, max_retries: int = 3):\n",
    "    global _total_calls, _call_times\n",
    "    if _total_calls >= MAX_DAY:\n",
    "        return \"ERROR:DailyLimit\"\n",
    "\n",
    "    # --- RPM throttle ---\n",
    "    while True:\n",
    "        now = time.time()\n",
    "        while _call_times and now - _call_times[0] > WINDOW:\n",
    "            _call_times.popleft()\n",
    "        if len(_call_times) < RPM_LIMIT:\n",
    "            break\n",
    "        sleep_for = WINDOW - (now - _call_times[0]) + 0.2\n",
    "        time.sleep(sleep_for)\n",
    "\n",
    "    for attempt in range(1, max_retries + 1):\n",
    "        try:\n",
    "            resp = GEMINI_MODEL.generate_content(\n",
    "                prompt,\n",
    "                generation_config={\"temperature\": temperature,\n",
    "                                   \"max_output_tokens\": 50},\n",
    "            )\n",
    "            _call_times.append(time.time())\n",
    "            _total_calls += 1\n",
    "            return resp.text.strip()\n",
    "        except gexc.ResourceExhausted:\n",
    "            if attempt == max_retries:\n",
    "                return \"ERROR:ResourceExhausted\"\n",
    "            time.sleep(2 ** attempt)   # back-off\n",
    "        except Exception as e:\n",
    "            return f\"ERROR:{type(e).__name__}\"\n"
   ]
  },
  {
   "cell_type": "markdown",
   "id": "5205e1d8",
   "metadata": {},
   "source": [
    "Gemini-only inference (20-review subset)"
   ]
  },
  {
   "cell_type": "code",
   "execution_count": 47,
   "id": "210ad682",
   "metadata": {},
   "outputs": [
    {
     "name": "stderr",
     "output_type": "stream",
     "text": [
      "snippet_v1 • Gemini:   0%|          | 0/20 [00:00<?, ?it/s]"
     ]
    },
    {
     "name": "stderr",
     "output_type": "stream",
     "text": [
      "snippet_v1 • Gemini: 100%|██████████| 20/20 [01:04<00:00,  3.21s/it]\n"
     ]
    },
    {
     "data": {
      "text/html": [
       "<div>\n",
       "<style scoped>\n",
       "    .dataframe tbody tr th:only-of-type {\n",
       "        vertical-align: middle;\n",
       "    }\n",
       "\n",
       "    .dataframe tbody tr th {\n",
       "        vertical-align: top;\n",
       "    }\n",
       "\n",
       "    .dataframe thead th {\n",
       "        text-align: right;\n",
       "    }\n",
       "</style>\n",
       "<table border=\"1\" class=\"dataframe\">\n",
       "  <thead>\n",
       "    <tr style=\"text-align: right;\">\n",
       "      <th></th>\n",
       "      <th>review</th>\n",
       "      <th>snippet_gemini_v1</th>\n",
       "    </tr>\n",
       "  </thead>\n",
       "  <tbody>\n",
       "    <tr>\n",
       "      <th>0</th>\n",
       "      <td>Normally, I wouldn't bother to contribute my t...</td>\n",
       "      <td>Pulp Fiction deserves all of the hype and all ...</td>\n",
       "    </tr>\n",
       "    <tr>\n",
       "      <th>1</th>\n",
       "      <td>This film is simply pure Art. Something to jus...</td>\n",
       "      <td>Cinema at its peak.</td>\n",
       "    </tr>\n",
       "    <tr>\n",
       "      <th>2</th>\n",
       "      <td>There is not much that can be said about Pulp ...</td>\n",
       "      <td>A masterpiece.</td>\n",
       "    </tr>\n",
       "    <tr>\n",
       "      <th>3</th>\n",
       "      <td>Well I had heard a lot about this movie earlie...</td>\n",
       "      <td>The story, if there was one, was plain boring.</td>\n",
       "    </tr>\n",
       "    <tr>\n",
       "      <th>4</th>\n",
       "      <td>I'm not into writing reviews, but IMDb asked m...</td>\n",
       "      <td>still entertaining as a freaking Disneyland fo...</td>\n",
       "    </tr>\n",
       "  </tbody>\n",
       "</table>\n",
       "</div>"
      ],
      "text/plain": [
       "                                              review  \\\n",
       "0  Normally, I wouldn't bother to contribute my t...   \n",
       "1  This film is simply pure Art. Something to jus...   \n",
       "2  There is not much that can be said about Pulp ...   \n",
       "3  Well I had heard a lot about this movie earlie...   \n",
       "4  I'm not into writing reviews, but IMDb asked m...   \n",
       "\n",
       "                                   snippet_gemini_v1  \n",
       "0  Pulp Fiction deserves all of the hype and all ...  \n",
       "1                                Cinema at its peak.  \n",
       "2                                     A masterpiece.  \n",
       "3     The story, if there was one, was plain boring.  \n",
       "4  still entertaining as a freaking Disneyland fo...  "
      ]
     },
     "metadata": {},
     "output_type": "display_data"
    }
   ],
   "source": [
    "snippet_v1_gemini = []\n",
    "\n",
    "for txt in tqdm.tqdm(subset[\"Reviews\"], desc=\"snippet_v1 • Gemini\"):\n",
    "    snippet_v1_gemini.append(gemini_safe(snippet_v1(txt))) \n",
    "\n",
    "# Save interim results\n",
    "df_snip_gem = pd.DataFrame({\n",
    "    \"review\": subset[\"Reviews\"],\n",
    "    \"snippet_gemini_v1\": snippet_v1_gemini,\n",
    "})\n",
    "df_snip_gem.to_csv(\"subset_snippet_v1_gemini.csv\", index=False)\n",
    "display(df_snip_gem.head())\n"
   ]
  },
  {
   "cell_type": "markdown",
   "id": "9334f2a5",
   "metadata": {},
   "source": [
    "## Inference with Prompt v1 - OpenAI (GPT-4.1 nano)\n"
   ]
  },
  {
   "cell_type": "code",
   "execution_count": 48,
   "id": "a6219801",
   "metadata": {},
   "outputs": [
    {
     "name": "stderr",
     "output_type": "stream",
     "text": [
      "snippet_v1 • OpenAI: 100%|██████████| 20/20 [00:13<00:00,  1.48it/s]\n"
     ]
    },
    {
     "data": {
      "text/html": [
       "<div>\n",
       "<style scoped>\n",
       "    .dataframe tbody tr th:only-of-type {\n",
       "        vertical-align: middle;\n",
       "    }\n",
       "\n",
       "    .dataframe tbody tr th {\n",
       "        vertical-align: top;\n",
       "    }\n",
       "\n",
       "    .dataframe thead th {\n",
       "        text-align: right;\n",
       "    }\n",
       "</style>\n",
       "<table border=\"1\" class=\"dataframe\">\n",
       "  <thead>\n",
       "    <tr style=\"text-align: right;\">\n",
       "      <th></th>\n",
       "      <th>review</th>\n",
       "      <th>snippet_openai_v1</th>\n",
       "    </tr>\n",
       "  </thead>\n",
       "  <tbody>\n",
       "    <tr>\n",
       "      <th>0</th>\n",
       "      <td>Normally, I wouldn't bother to contribute my t...</td>\n",
       "      <td>Pulp Fiction deserves all of the hype and all ...</td>\n",
       "    </tr>\n",
       "    <tr>\n",
       "      <th>1</th>\n",
       "      <td>This film is simply pure Art. Something to jus...</td>\n",
       "      <td>Cinema at its peak.</td>\n",
       "    </tr>\n",
       "    <tr>\n",
       "      <th>2</th>\n",
       "      <td>There is not much that can be said about Pulp ...</td>\n",
       "      <td>The storyline is basic and feels unfinished bu...</td>\n",
       "    </tr>\n",
       "    <tr>\n",
       "      <th>3</th>\n",
       "      <td>Well I had heard a lot about this movie earlie...</td>\n",
       "      <td>the story, if there was one was plain boring</td>\n",
       "    </tr>\n",
       "    <tr>\n",
       "      <th>4</th>\n",
       "      <td>I'm not into writing reviews, but IMDb asked m...</td>\n",
       "      <td>the film is still amazing</td>\n",
       "    </tr>\n",
       "  </tbody>\n",
       "</table>\n",
       "</div>"
      ],
      "text/plain": [
       "                                              review  \\\n",
       "0  Normally, I wouldn't bother to contribute my t...   \n",
       "1  This film is simply pure Art. Something to jus...   \n",
       "2  There is not much that can be said about Pulp ...   \n",
       "3  Well I had heard a lot about this movie earlie...   \n",
       "4  I'm not into writing reviews, but IMDb asked m...   \n",
       "\n",
       "                                   snippet_openai_v1  \n",
       "0  Pulp Fiction deserves all of the hype and all ...  \n",
       "1                                Cinema at its peak.  \n",
       "2  The storyline is basic and feels unfinished bu...  \n",
       "3       the story, if there was one was plain boring  \n",
       "4                          the film is still amazing  "
      ]
     },
     "metadata": {},
     "output_type": "display_data"
    }
   ],
   "source": [
    "\n",
    "snippet_v1_openai = []\n",
    "\n",
    "for txt in tqdm.tqdm(subset[\"Reviews\"], desc=\"snippet_v1 • OpenAI\"):\n",
    "    snippet_v1_openai.append(call_openai(snippet_v1(txt)))\n",
    "\n",
    "df_snip_oa = pd.DataFrame({\n",
    "    \"review\": subset[\"Reviews\"],\n",
    "    \"snippet_openai_v1\": snippet_v1_openai,\n",
    "})\n",
    "df_snip_oa.to_csv(\"subset_snippet_v1_openai.csv\", index=False)\n",
    "display(df_snip_oa.head())\n"
   ]
  },
  {
   "cell_type": "markdown",
   "id": "339406be",
   "metadata": {},
   "source": [
    "Merge the two files into one table"
   ]
  },
  {
   "cell_type": "code",
   "execution_count": 49,
   "id": "68f9b15c",
   "metadata": {},
   "outputs": [
    {
     "data": {
      "text/html": [
       "<div>\n",
       "<style scoped>\n",
       "    .dataframe tbody tr th:only-of-type {\n",
       "        vertical-align: middle;\n",
       "    }\n",
       "\n",
       "    .dataframe tbody tr th {\n",
       "        vertical-align: top;\n",
       "    }\n",
       "\n",
       "    .dataframe thead th {\n",
       "        text-align: right;\n",
       "    }\n",
       "</style>\n",
       "<table border=\"1\" class=\"dataframe\">\n",
       "  <thead>\n",
       "    <tr style=\"text-align: right;\">\n",
       "      <th></th>\n",
       "      <th>review</th>\n",
       "      <th>snippet_gemini_v1</th>\n",
       "      <th>snippet_openai_v1</th>\n",
       "    </tr>\n",
       "  </thead>\n",
       "  <tbody>\n",
       "    <tr>\n",
       "      <th>0</th>\n",
       "      <td>Normally, I wouldn't bother to contribute my t...</td>\n",
       "      <td>Pulp Fiction deserves all of the hype and all ...</td>\n",
       "      <td>Pulp Fiction deserves all of the hype and all ...</td>\n",
       "    </tr>\n",
       "    <tr>\n",
       "      <th>1</th>\n",
       "      <td>This film is simply pure Art. Something to jus...</td>\n",
       "      <td>Cinema at its peak.</td>\n",
       "      <td>Cinema at its peak.</td>\n",
       "    </tr>\n",
       "    <tr>\n",
       "      <th>2</th>\n",
       "      <td>There is not much that can be said about Pulp ...</td>\n",
       "      <td>A masterpiece.</td>\n",
       "      <td>The storyline is basic and feels unfinished bu...</td>\n",
       "    </tr>\n",
       "    <tr>\n",
       "      <th>3</th>\n",
       "      <td>Well I had heard a lot about this movie earlie...</td>\n",
       "      <td>The story, if there was one, was plain boring.</td>\n",
       "      <td>the story, if there was one was plain boring</td>\n",
       "    </tr>\n",
       "    <tr>\n",
       "      <th>4</th>\n",
       "      <td>I'm not into writing reviews, but IMDb asked m...</td>\n",
       "      <td>still entertaining as a freaking Disneyland fo...</td>\n",
       "      <td>the film is still amazing</td>\n",
       "    </tr>\n",
       "  </tbody>\n",
       "</table>\n",
       "</div>"
      ],
      "text/plain": [
       "                                              review  \\\n",
       "0  Normally, I wouldn't bother to contribute my t...   \n",
       "1  This film is simply pure Art. Something to jus...   \n",
       "2  There is not much that can be said about Pulp ...   \n",
       "3  Well I had heard a lot about this movie earlie...   \n",
       "4  I'm not into writing reviews, but IMDb asked m...   \n",
       "\n",
       "                                   snippet_gemini_v1  \\\n",
       "0  Pulp Fiction deserves all of the hype and all ...   \n",
       "1                                Cinema at its peak.   \n",
       "2                                     A masterpiece.   \n",
       "3     The story, if there was one, was plain boring.   \n",
       "4  still entertaining as a freaking Disneyland fo...   \n",
       "\n",
       "                                   snippet_openai_v1  \n",
       "0  Pulp Fiction deserves all of the hype and all ...  \n",
       "1                                Cinema at its peak.  \n",
       "2  The storyline is basic and feels unfinished bu...  \n",
       "3       the story, if there was one was plain boring  \n",
       "4                          the film is still amazing  "
      ]
     },
     "metadata": {},
     "output_type": "display_data"
    }
   ],
   "source": [
    "df_merged = pd.read_csv(\"subset_snippet_v1_gemini.csv\").merge(\n",
    "    pd.read_csv(\"subset_snippet_v1_openai.csv\"),\n",
    "    on=\"review\",\n",
    "    how=\"left\"\n",
    ")\n",
    "df_merged.to_csv(\"subset_snippet_v1_outputs.csv\", index=False)\n",
    "display(df_merged.head())\n"
   ]
  },
  {
   "cell_type": "markdown",
   "id": "b72faba7",
   "metadata": {},
   "source": [
    "**Rationale:** In v1, extracted phrases were sometimes too broad, missing the core complaint, or too fragmented, losing meaningful context. Additionally, certain extractions lacked specificity, failing to highlight actionable issues. To resolve these shortcomings, v2 is designed to refine selection criteria by prioritizing complaint-related language, ensuring that only the most relevant and impactful phrases are extracted."
   ]
  },
  {
   "cell_type": "markdown",
   "id": "6f33eadb",
   "metadata": {},
   "source": [
    "## Prompt v2"
   ]
  },
  {
   "cell_type": "code",
   "execution_count": 50,
   "id": "0a347f66",
   "metadata": {},
   "outputs": [],
   "source": [
    "def snippet_v2(review_text: str) -> str:\n",
    "    return textwrap.dedent(f\"\"\"\\\n",
    "        You are a film-review analyst.\n",
    "\n",
    "        • Return **exactly one complete sentence** (ends with ., ! or ?)\n",
    "          that best captures the STRONGEST complaint OR STRONGEST praise.\n",
    "        • Prefer the sentence containing high-emotion words\n",
    "          (amazing, masterpiece, love, awful, boring, terrible, skip, worst, etc.).\n",
    "        • Do NOT add any summary or extra words—output the chosen sentence only.\n",
    "\n",
    "        Review:\n",
    "        \\\"\\\"\\\"{review_text}\\\"\\\"\\\"\"\"\")\n"
   ]
  },
  {
   "cell_type": "markdown",
   "id": "45126eb0",
   "metadata": {},
   "source": [
    "## Inference with Prompt v2 - Gemini Flash\n"
   ]
  },
  {
   "cell_type": "code",
   "execution_count": 51,
   "id": "fc448bc5",
   "metadata": {},
   "outputs": [
    {
     "name": "stderr",
     "output_type": "stream",
     "text": [
      "snip_v2 • Gemini: 100%|██████████| 20/20 [01:04<00:00,  3.20s/it]\n"
     ]
    },
    {
     "data": {
      "text/html": [
       "<div>\n",
       "<style scoped>\n",
       "    .dataframe tbody tr th:only-of-type {\n",
       "        vertical-align: middle;\n",
       "    }\n",
       "\n",
       "    .dataframe tbody tr th {\n",
       "        vertical-align: top;\n",
       "    }\n",
       "\n",
       "    .dataframe thead th {\n",
       "        text-align: right;\n",
       "    }\n",
       "</style>\n",
       "<table border=\"1\" class=\"dataframe\">\n",
       "  <thead>\n",
       "    <tr style=\"text-align: right;\">\n",
       "      <th></th>\n",
       "      <th>review</th>\n",
       "      <th>snippet_gemini_v2</th>\n",
       "    </tr>\n",
       "  </thead>\n",
       "  <tbody>\n",
       "    <tr>\n",
       "      <th>0</th>\n",
       "      <td>Normally, I wouldn't bother to contribute my t...</td>\n",
       "      <td>Pulp Fiction is a masterpiece!</td>\n",
       "    </tr>\n",
       "    <tr>\n",
       "      <th>1</th>\n",
       "      <td>This film is simply pure Art. Something to jus...</td>\n",
       "      <td>This film is simply pure Art!</td>\n",
       "    </tr>\n",
       "    <tr>\n",
       "      <th>2</th>\n",
       "      <td>There is not much that can be said about Pulp ...</td>\n",
       "      <td>Pulp Fiction is a masterpiece.</td>\n",
       "    </tr>\n",
       "    <tr>\n",
       "      <th>3</th>\n",
       "      <td>Well I had heard a lot about this movie earlie...</td>\n",
       "      <td>This so-called classic movie is plain boring.</td>\n",
       "    </tr>\n",
       "    <tr>\n",
       "      <th>4</th>\n",
       "      <td>I'm not into writing reviews, but IMDb asked m...</td>\n",
       "      <td>The film is still amazing!</td>\n",
       "    </tr>\n",
       "  </tbody>\n",
       "</table>\n",
       "</div>"
      ],
      "text/plain": [
       "                                              review  \\\n",
       "0  Normally, I wouldn't bother to contribute my t...   \n",
       "1  This film is simply pure Art. Something to jus...   \n",
       "2  There is not much that can be said about Pulp ...   \n",
       "3  Well I had heard a lot about this movie earlie...   \n",
       "4  I'm not into writing reviews, but IMDb asked m...   \n",
       "\n",
       "                               snippet_gemini_v2  \n",
       "0                 Pulp Fiction is a masterpiece!  \n",
       "1                  This film is simply pure Art!  \n",
       "2                 Pulp Fiction is a masterpiece.  \n",
       "3  This so-called classic movie is plain boring.  \n",
       "4                     The film is still amazing!  "
      ]
     },
     "metadata": {},
     "output_type": "display_data"
    }
   ],
   "source": [
    "snippet_v2_gemini = [\n",
    "    gemini_safe(snippet_v2(txt)) for txt in tqdm.tqdm(subset[\"Reviews\"], desc=\"snip_v2 • Gemini\")\n",
    "]\n",
    "\n",
    "df_snip_gem_v2 = pd.DataFrame({\n",
    "    \"review\": subset[\"Reviews\"],\n",
    "    \"snippet_gemini_v2\": snippet_v2_gemini,\n",
    "})\n",
    "df_snip_gem_v2.to_csv(\"subset_snippet_v2_gemini.csv\", index=False)\n",
    "display(df_snip_gem_v2.head())\n"
   ]
  },
  {
   "cell_type": "markdown",
   "id": "cb83c537",
   "metadata": {},
   "source": [
    "## Inference with Prompt v2 - OpenAI (GPT-4.1 nano)\n"
   ]
  },
  {
   "cell_type": "code",
   "execution_count": 53,
   "id": "971a2ed2",
   "metadata": {},
   "outputs": [
    {
     "name": "stderr",
     "output_type": "stream",
     "text": [
      "snip_v2 • OpenAI: 100%|██████████| 20/20 [00:13<00:00,  1.47it/s]\n"
     ]
    }
   ],
   "source": [
    "snippet_v2_openai = [\n",
    "    call_openai(snippet_v2(txt)) for txt in tqdm.tqdm(subset[\"Reviews\"], desc=\"snip_v2 • OpenAI\")\n",
    "]\n",
    "\n",
    "pd.DataFrame({\n",
    "    \"review\": subset[\"Reviews\"],\n",
    "    \"snippet_openai_v2\": snippet_v2_openai,\n",
    "}).to_csv(\"subset_snippet_v2_openai.csv\", index=False)\n"
   ]
  },
  {
   "cell_type": "markdown",
   "id": "6713dcae",
   "metadata": {},
   "source": [
    "Merge and review"
   ]
  },
  {
   "cell_type": "code",
   "execution_count": 54,
   "id": "2cef274a",
   "metadata": {},
   "outputs": [
    {
     "data": {
      "text/html": [
       "<div>\n",
       "<style scoped>\n",
       "    .dataframe tbody tr th:only-of-type {\n",
       "        vertical-align: middle;\n",
       "    }\n",
       "\n",
       "    .dataframe tbody tr th {\n",
       "        vertical-align: top;\n",
       "    }\n",
       "\n",
       "    .dataframe thead th {\n",
       "        text-align: right;\n",
       "    }\n",
       "</style>\n",
       "<table border=\"1\" class=\"dataframe\">\n",
       "  <thead>\n",
       "    <tr style=\"text-align: right;\">\n",
       "      <th></th>\n",
       "      <th>review</th>\n",
       "      <th>snippet_gemini_v2</th>\n",
       "      <th>snippet_openai_v2</th>\n",
       "    </tr>\n",
       "  </thead>\n",
       "  <tbody>\n",
       "    <tr>\n",
       "      <th>0</th>\n",
       "      <td>Normally, I wouldn't bother to contribute my t...</td>\n",
       "      <td>Pulp Fiction is a masterpiece!</td>\n",
       "      <td>Pulp Fiction deserves all of the hype and all ...</td>\n",
       "    </tr>\n",
       "    <tr>\n",
       "      <th>1</th>\n",
       "      <td>This film is simply pure Art. Something to jus...</td>\n",
       "      <td>This film is simply pure Art!</td>\n",
       "      <td>Cinema at it's peak.</td>\n",
       "    </tr>\n",
       "    <tr>\n",
       "      <th>2</th>\n",
       "      <td>There is not much that can be said about Pulp ...</td>\n",
       "      <td>Pulp Fiction is a masterpiece.</td>\n",
       "      <td>I consider Pulp Fiction to be a masterpiece.</td>\n",
       "    </tr>\n",
       "    <tr>\n",
       "      <th>3</th>\n",
       "      <td>Well I had heard a lot about this movie earlie...</td>\n",
       "      <td>This so-called classic movie is plain boring.</td>\n",
       "      <td>I am very much surprised because it was nomina...</td>\n",
       "    </tr>\n",
       "    <tr>\n",
       "      <th>4</th>\n",
       "      <td>I'm not into writing reviews, but IMDb asked m...</td>\n",
       "      <td>The film is still amazing!</td>\n",
       "      <td>And the film is still amazing, yeah, don't for...</td>\n",
       "    </tr>\n",
       "  </tbody>\n",
       "</table>\n",
       "</div>"
      ],
      "text/plain": [
       "                                              review  \\\n",
       "0  Normally, I wouldn't bother to contribute my t...   \n",
       "1  This film is simply pure Art. Something to jus...   \n",
       "2  There is not much that can be said about Pulp ...   \n",
       "3  Well I had heard a lot about this movie earlie...   \n",
       "4  I'm not into writing reviews, but IMDb asked m...   \n",
       "\n",
       "                               snippet_gemini_v2  \\\n",
       "0                 Pulp Fiction is a masterpiece!   \n",
       "1                  This film is simply pure Art!   \n",
       "2                 Pulp Fiction is a masterpiece.   \n",
       "3  This so-called classic movie is plain boring.   \n",
       "4                     The film is still amazing!   \n",
       "\n",
       "                                   snippet_openai_v2  \n",
       "0  Pulp Fiction deserves all of the hype and all ...  \n",
       "1                               Cinema at it's peak.  \n",
       "2       I consider Pulp Fiction to be a masterpiece.  \n",
       "3  I am very much surprised because it was nomina...  \n",
       "4  And the film is still amazing, yeah, don't for...  "
      ]
     },
     "metadata": {},
     "output_type": "display_data"
    }
   ],
   "source": [
    "df_snip_v2 = pd.read_csv(\"subset_snippet_v2_gemini.csv\").merge(\n",
    "    pd.read_csv(\"subset_snippet_v2_openai.csv\"), on=\"review\", how=\"left\"\n",
    ")\n",
    "df_snip_v2.to_csv(\"subset_snippet_v2_outputs.csv\", index=False)\n",
    "display(df_snip_v2.head())\n"
   ]
  },
  {
   "cell_type": "markdown",
   "id": "aaf1b295",
   "metadata": {},
   "source": [
    "**Rationale v3:** For v3, the focus is on further refining the key phrase and complaint extraction process by addressing residual inefficiencies from v2. While v2 improved accuracy and conciseness, some extracted phrases were still overly broad or failed to capture the most critical part of a complaint. In v3, extraction criteria have been enhanced to prioritize phrases that contain explicit or implied dissatisfaction. These improvements make v3 more precise, insightful, and useful for identifying key concerns in user feedback."
   ]
  },
  {
   "cell_type": "markdown",
   "id": "3a997004",
   "metadata": {},
   "source": [
    "## Prompt v3"
   ]
  },
  {
   "cell_type": "code",
   "execution_count": 55,
   "id": "6e543b80",
   "metadata": {},
   "outputs": [],
   "source": [
    "def snippet_v3(review_text: str) -> str:\n",
    "    return textwrap.dedent(f\"\"\"\\\n",
    "        You are a film-review analyst. Extract the **single most emotionally charged sentence** \n",
    "        expressing either praise or criticism from the review below.\n",
    "\n",
    "        ### Examples of Valid Outputs:\n",
    "        1. Praise: \"Pulp Fiction is a masterpiece that redefined modern cinema!\"\n",
    "        2. Complaint: \"Bruce Willis' scenes were irrelevant and dragged the film down.\"\n",
    "        3. Sarcasm: \"This 'brilliant' dialogue felt like nails on a chalkboard.\"\n",
    "\n",
    "        ### Rules:\n",
    "        - **Focus on emotion**: Prioritize sentences with words like *masterpiece, awful, genius, boring, unforgettable, worst*.\n",
    "        - **Full sentences only**: Must end with . ! ? and form a complete thought.\n",
    "        - **Length**: ≤50 tokens (prioritize clarity over truncation).\n",
    "        - **Tie-breakers**: \n",
    "          - Pick the **most negative** sentence if emotional strength is equal.\n",
    "          - If sarcasm/irony is detected (e.g., \"This 'gem' ruined my night\"), prioritize it.\n",
    "        - **No summaries**: Output the exact sentence from the review. Do not paraphrase.\n",
    "        NoteL If mixed praise and criticism, choose the one with the dominant emotion.\n",
    "\n",
    "        ### Review to Analyze:\n",
    "        \\\"\\\"\\\"{review_text}\\\"\\\"\\\"\n",
    "        \n",
    "        ### Extracted Snippet:\n",
    "        \"\"\")"
   ]
  },
  {
   "cell_type": "markdown",
   "id": "6e665d6b",
   "metadata": {},
   "source": [
    "## Inference with Prompt v3"
   ]
  },
  {
   "cell_type": "code",
   "execution_count": null,
   "id": "f584ec0d",
   "metadata": {},
   "outputs": [
    {
     "name": "stderr",
     "output_type": "stream",
     "text": [
      "snip_v3 • Gemini: 100%|██████████| 20/20 [01:05<00:00,  3.27s/it]\n",
      "snip_v3 • OpenAI: 100%|██████████| 20/20 [00:14<00:00,  1.42it/s]\n"
     ]
    }
   ],
   "source": [
    "#Gemini\n",
    "snippet_v3_gemini = [\n",
    "    gemini_safe(snippet_v3(txt)) for txt in tqdm.tqdm(subset[\"Reviews\"], desc=\"snip_v3 • Gemini\")\n",
    "]\n",
    "\n",
    "#OpenAI\n",
    "snippet_v3_openai = [\n",
    "    call_openai(snippet_v3(txt)) for txt in tqdm.tqdm(subset[\"Reviews\"], desc=\"snip_v3 • OpenAI\")\n",
    "]\n",
    "\n",
    "# Merge and save\n",
    "pd.DataFrame({\n",
    "    \"review\": subset[\"Reviews\"],\n",
    "    \"snippet_openai_v3\": snippet_v3_openai,\n",
    "    \"snippet_gemini_v3\": snippet_v3_gemini,\n",
    "}).to_csv(\"subset_snippet_v3_outputs.csv\", index=False)\n"
   ]
  },
  {
   "cell_type": "markdown",
   "id": "80fca706",
   "metadata": {},
   "source": [
    "## Save the 20-review subset for manual labeling"
   ]
  },
  {
   "cell_type": "code",
   "execution_count": 60,
   "id": "cd1721f6",
   "metadata": {},
   "outputs": [
    {
     "data": {
      "text/html": [
       "<div>\n",
       "<style scoped>\n",
       "    .dataframe tbody tr th:only-of-type {\n",
       "        vertical-align: middle;\n",
       "    }\n",
       "\n",
       "    .dataframe tbody tr th {\n",
       "        vertical-align: top;\n",
       "    }\n",
       "\n",
       "    .dataframe thead th {\n",
       "        text-align: right;\n",
       "    }\n",
       "</style>\n",
       "<table border=\"1\" class=\"dataframe\">\n",
       "  <thead>\n",
       "    <tr style=\"text-align: right;\">\n",
       "      <th></th>\n",
       "      <th>review</th>\n",
       "      <th>snippet_openai_v3</th>\n",
       "      <th>snippet_gemini_v3</th>\n",
       "      <th>gold_snippet</th>\n",
       "    </tr>\n",
       "  </thead>\n",
       "  <tbody>\n",
       "    <tr>\n",
       "      <th>0</th>\n",
       "      <td>Normally, I wouldn't bother to contribute my t...</td>\n",
       "      <td>Pulp Fiction deserves all of the hype and all ...</td>\n",
       "      <td>Samuel L. Jackson's performance was simply unp...</td>\n",
       "      <td></td>\n",
       "    </tr>\n",
       "    <tr>\n",
       "      <th>1</th>\n",
       "      <td>This film is simply pure Art. Something to jus...</td>\n",
       "      <td>This film is simply pure Art.</td>\n",
       "      <td>This film is simply pure Art.</td>\n",
       "      <td></td>\n",
       "    </tr>\n",
       "    <tr>\n",
       "      <th>2</th>\n",
       "      <td>There is not much that can be said about Pulp ...</td>\n",
       "      <td>I consider Pulp Fiction to be a masterpiece.</td>\n",
       "      <td>Quentin Tarantino – Genius.</td>\n",
       "      <td></td>\n",
       "    </tr>\n",
       "    <tr>\n",
       "      <th>3</th>\n",
       "      <td>Well I had heard a lot about this movie earlie...</td>\n",
       "      <td>I am very much surprised because it was nomina...</td>\n",
       "      <td>\"I am very much surprised because it was nomin...</td>\n",
       "      <td></td>\n",
       "    </tr>\n",
       "    <tr>\n",
       "      <th>4</th>\n",
       "      <td>I'm not into writing reviews, but IMDb asked m...</td>\n",
       "      <td>And the film is still amazing, yeah, don't for...</td>\n",
       "      <td>\"And, by the way, I must admit that minimum si...</td>\n",
       "      <td></td>\n",
       "    </tr>\n",
       "  </tbody>\n",
       "</table>\n",
       "</div>"
      ],
      "text/plain": [
       "                                              review  \\\n",
       "0  Normally, I wouldn't bother to contribute my t...   \n",
       "1  This film is simply pure Art. Something to jus...   \n",
       "2  There is not much that can be said about Pulp ...   \n",
       "3  Well I had heard a lot about this movie earlie...   \n",
       "4  I'm not into writing reviews, but IMDb asked m...   \n",
       "\n",
       "                                   snippet_openai_v3  \\\n",
       "0  Pulp Fiction deserves all of the hype and all ...   \n",
       "1                      This film is simply pure Art.   \n",
       "2       I consider Pulp Fiction to be a masterpiece.   \n",
       "3  I am very much surprised because it was nomina...   \n",
       "4  And the film is still amazing, yeah, don't for...   \n",
       "\n",
       "                                   snippet_gemini_v3 gold_snippet  \n",
       "0  Samuel L. Jackson's performance was simply unp...               \n",
       "1                      This film is simply pure Art.               \n",
       "2                        Quentin Tarantino – Genius.               \n",
       "3  \"I am very much surprised because it was nomin...               \n",
       "4  \"And, by the way, I must admit that minimum si...               "
      ]
     },
     "metadata": {},
     "output_type": "display_data"
    }
   ],
   "source": [
    "#load the latest model \n",
    "df_snip = pd.read_csv(\"subset_snippet_v3_outputs.csv\")  \n",
    "\n",
    "#add empty gold column\n",
    "df_snip[\"gold_snippet\"] = \"\"      \n",
    "\n",
    "#save template for manual labeling\n",
    "tmpl_path = \"subset_snippet_for_labeling.csv\"\n",
    "df_snip.to_csv(tmpl_path, index=False)\n",
    "display(df_snip.head())\n"
   ]
  },
  {
   "cell_type": "markdown",
   "id": "64996026",
   "metadata": {},
   "source": [
    "##  Evaluation "
   ]
  },
  {
   "cell_type": "markdown",
   "id": "8facb3cc",
   "metadata": {},
   "source": [
    "Exact-Match Accuracy"
   ]
  },
  {
   "cell_type": "code",
   "execution_count": null,
   "id": "a040f953",
   "metadata": {},
   "outputs": [],
   "source": [
    "label_df = pd.read_csv(\"subset_snippet_for_labeling.csv\")\n",
    "\n",
    "gold = label_df[\"gold_snippet\"].tolist()       \n",
    "\n",
    "#Gather model predictions\n",
    "pred_files = {\n",
    "    \"v1_openai\" : \"subset_snippet_v1_openai.csv\",\n",
    "    \"v1_gemini\" : \"subset_snippet_v1_gemini.csv\",\n",
    "    \"v2_openai\" : \"subset_snippet_v2_openai.csv\",\n",
    "    \"v2_gemini\" : \"subset_snippet_v2_gemini.csv\",\n",
    "    \"v3_openai\" : \"subset_snippet_v3_outputs.csv\",  \n",
    "}\n",
    "\n",
    "\n",
    "records = []\n",
    "\n",
    "#Helper\n",
    "def exact_match(preds, gold):\n",
    "    return round(accuracy_score(gold, preds), 3)\n",
    "\n",
    "for tag, path in pred_files.items():\n",
    "    df = pd.read_csv(path)\n",
    "    if \"v3_outputs\" in path:         \n",
    "        preds_oa = df[\"snippet_openai_v3\"].tolist()\n",
    "        preds_ge = df[\"snippet_gemini_v3\"].tolist()\n",
    "        records.append({\"prompt\":\"v3\",\"model\":\"gpt-4.1-nano\",\"exact_match\":exact_match(preds_oa, gold)})\n",
    "        records.append({\"prompt\":\"v3\",\"model\":\"gemini-flash\",\"exact_match\":exact_match(preds_ge, gold)})\n",
    "    else:\n",
    "        col = [c for c in df.columns if c.startswith(\"snippet_\")][0]\n",
    "        preds = df[col].tolist()\n",
    "        p, m = tag.split(\"_\")        \n",
    "        model = \"gpt-4.1-nano\" if m==\"openai\" else \"gemini-flash\"\n",
    "        records.append({\"prompt\":p, \"model\":model,\n",
    "                        \"exact_match\":exact_match(preds, gold)})\n",
    "\n",
    "#Build leaderboard \n",
    "leader_snip = pd.DataFrame(records).sort_values(\"exact_match\", ascending=False)\n",
    "print(\"### Task B — Snippet extraction leaderboard\")\n",
    "display(leader_snip.style.format({\"exact_match\":\"{:.3f}\"}))\n",
    "leader_snip.to_csv(\"snippet_leaderboard.csv\", index=False)\n"
   ]
  },
  {
   "attachments": {
    "image.png": {
     "image/png": "[encoded data removed]"
    }
   },
   "cell_type": "markdown",
   "id": "06c56754",
   "metadata": {},
   "source": [
    "![image.png](attachment:image.png)"
   ]
  },
  {
   "cell_type": "markdown",
   "id": "97edf262",
   "metadata": {},
   "source": [
    "Token-level F1 "
   ]
  },
  {
   "cell_type": "markdown",
   "id": "ed3d638e",
   "metadata": {},
   "source": [
    "Token-level F1 rewards partial-word overlap, so it’s a fairer metric than exact-match."
   ]
  },
  {
   "cell_type": "code",
   "execution_count": null,
   "id": "2f86a21d",
   "metadata": {},
   "outputs": [],
   "source": [
    "\n",
    "df = pd.read_csv(\"subset_snippet_for_labeling.csv\")[[\"review\",\"gold_snippet\"]]\n",
    "\n",
    "\n",
    "def merge_preds(df, csv_path, col_filter):\n",
    "    pred_df = pd.read_csv(csv_path)\n",
    "    pred_col = [c for c in pred_df.columns if c.startswith(col_filter)][0]\n",
    "    return df.merge(pred_df[[\"review\", pred_col]], on=\"review\", how=\"left\")\n",
    "\n",
    "\n",
    "df = merge_preds(df, \"subset_snippet_v1_openai.csv\",  \"snippet_openai_v1\")\n",
    "df = merge_preds(df, \"subset_snippet_v1_gemini.csv\",  \"snippet_gemini_v1\")\n",
    "\n",
    "\n",
    "df = merge_preds(df, \"subset_snippet_v2_openai.csv\",  \"snippet_openai_v2\")\n",
    "df = merge_preds(df, \"subset_snippet_v2_gemini.csv\",  \"snippet_gemini_v2\")\n",
    "\n",
    "\n",
    "df_v3 = pd.read_csv(\"subset_snippet_v3_outputs.csv\")\n",
    "df = df.merge(df_v3[[\"review\",\"snippet_openai_v3\",\"snippet_gemini_v3\"]], on=\"review\", how=\"left\")\n",
    "\n",
    "df.to_csv(\"subset_snippet_all_preds.csv\", index=False)\n"
   ]
  },
  {
   "cell_type": "code",
   "execution_count": 107,
   "id": "4d7f7364",
   "metadata": {},
   "outputs": [
    {
     "name": "stdout",
     "output_type": "stream",
     "text": [
      "snippet_openai_v1          P=0.363  R=0.289  F1=0.322\n",
      "snippet_gemini_v1          P=0.362  R=0.225  F1=0.278\n",
      "snippet_openai_v2          P=0.45  R=0.444  F1=0.447\n",
      "snippet_gemini_v2          P=0.429  R=0.222  F1=0.292\n",
      "snippet_openai_v3          P=0.5  R=0.507  F1=0.503\n",
      "snippet_gemini_v3          P=0.338  R=0.282  F1=0.307\n"
     ]
    }
   ],
   "source": [
    "from sklearn.metrics import precision_recall_fscore_support\n",
    "\n",
    "gold_tokens = df[\"gold_snippet\"].str.lower().str.split()\n",
    "\n",
    "def token_f1(series):\n",
    "    preds = series.str.lower().str.split()\n",
    "    y_true, y_pred = [], []\n",
    "    for g, p in zip(gold_tokens, preds):\n",
    "        union = list(set(g + p))\n",
    "        y_true += [1 if t in g else 0 for t in union]\n",
    "        y_pred += [1 if t in p else 0 for t in union]\n",
    "    p, r, f1, _ = precision_recall_fscore_support(y_true, y_pred,\n",
    "                                                  average=\"binary\",\n",
    "                                                  zero_division=0)\n",
    "    return round(p,3), round(r,3), round(f1,3)\n",
    "\n",
    "for col in [c for c in df.columns if c.startswith(\"snippet_\")]:\n",
    "    prec, rec, f1 = token_f1(df[col])\n",
    "    print(f\"{col:<25}  P={prec}  R={rec}  F1={f1}\")\n"
   ]
  },
  {
   "cell_type": "markdown",
   "id": "66ddeabc",
   "metadata": {},
   "source": [
    "**Refelction:**\n",
    "\n",
    "**Best-performing prompt and model:**\n",
    "GPT-4.1-nano with snippet_v3 (token-level F1 0.503). Few-shot exemplars plus a “strongest emotional sentence” rule guided the model to extract concise, relevant lines more consistently than the simpler v1 and v2.\n",
    "\n",
    "**Failure cases & causes:**\n",
    "1. Truncation: occasionally the model cut mid-sentence.\n",
    "2. Polarity mismatches: generic praise snippets sometimes arose in negative reviews when emotional words were evenly distributed. This suggests the emotional-weight heuristic needs tuning per domain.\n",
    "\n",
    "**Metric limitations:**\n",
    "Token-level F1 allows partial credit for close extractions but can overestimate performance when very short or generic snippets match tokens. Exact-match rates were much lower, highlighting the metric’s brittleness.\n",
    "\n",
    "**Deployment confidence:**\n",
    "As a rule-based extractor, this is suitable for surfacing potential snippets in a dashboard, but should be paired with a simple regex check or length filter to catch truncations and ensure full sentences."
   ]
  },
  {
   "cell_type": "markdown",
   "id": "dcf41869",
   "metadata": {},
   "source": [
    "## Lock in Snippet Pipeline\n"
   ]
  },
  {
   "cell_type": "code",
   "execution_count": 62,
   "id": "0304ced2",
   "metadata": {},
   "outputs": [
    {
     "name": "stderr",
     "output_type": "stream",
     "text": [
      "snip_v3 • full: 100%|██████████| 250/250 [02:46<00:00,  1.50it/s]\n"
     ]
    }
   ],
   "source": [
    "\n",
    "df_full = pd.read_csv(\"Pulp Fiction (Movie) - Imdb Reviews (250).csv\") \n",
    "\n",
    "# Generate snippets with GPT-4.1-nano + snippet_v3\n",
    "df_full[\"snippet_gpt41nano_v3\"] = [\n",
    "    call_openai(snippet_v3(text)) for text in tqdm.tqdm(df_full[\"Reviews\"], desc=\"snip_v3 • full\")\n",
    "]\n",
    "\n",
    "df_full.to_csv(\"reviews_with_snippets.csv\", index=False)\n"
   ]
  },
  {
   "cell_type": "markdown",
   "id": "1d7f421e",
   "metadata": {},
   "source": [
    "# Task C: Summary"
   ]
  },
  {
   "cell_type": "markdown",
   "id": "156c659e",
   "metadata": {},
   "source": [
    "## Prompt v1 (Baseline)"
   ]
  },
  {
   "cell_type": "code",
   "execution_count": 63,
   "id": "8b5a9af4",
   "metadata": {},
   "outputs": [
    {
     "name": "stdout",
     "output_type": "stream",
     "text": [
      "You are a film-review analyst.\n",
      "Summarize the following review in **1–2 sentences**, capturing the main opinion and key points.\n",
      "Review:\n",
      "\"\"\"Normally, I wouldn't bother to contribute my thoughts on a movie made back in '94, but I'm doing so for two reasons: 1.) It is my favorite movie of all time (and like everyone that uses this database, I've seen q ...\n"
     ]
    }
   ],
   "source": [
    "\n",
    "def summary_v1(review_text: str) -> str:\n",
    "    \"\"\"\n",
    "    Baseline: ask for 1–2 sentence summary, capturing main opinion and key points.\n",
    "    \"\"\"\n",
    "    return textwrap.dedent(f\"\"\"\\\n",
    "        You are a film-review analyst.\n",
    "        Summarize the following review in **1–2 sentences**, capturing the main opinion and key points.\n",
    "        Review:\n",
    "        \\\"\\\"\\\"{review_text}\\\"\\\"\\\"\"\"\")\n",
    "\n",
    "\n",
    "TEXT_COL = \"Reviews\" if \"Reviews\" in df.columns else \"review\"\n",
    "# Sanity-check\n",
    "print(summary_v1(df[TEXT_COL].iloc[0])[:350], \"...\")\n"
   ]
  },
  {
   "cell_type": "markdown",
   "id": "d0f980eb",
   "metadata": {},
   "source": [
    "## Inference with Prompt v1 - Gemini Flash\n"
   ]
  },
  {
   "cell_type": "code",
   "execution_count": null,
   "id": "249566e5",
   "metadata": {},
   "outputs": [
    {
     "name": "stderr",
     "output_type": "stream",
     "text": [
      "sum_v1 • Gemini:   0%|          | 0/20 [00:00<?, ?it/s]"
     ]
    },
    {
     "name": "stderr",
     "output_type": "stream",
     "text": [
      "sum_v1 • Gemini: 100%|██████████| 20/20 [01:05<00:00,  3.29s/it]\n"
     ]
    },
    {
     "data": {
      "text/html": [
       "<div>\n",
       "<style scoped>\n",
       "    .dataframe tbody tr th:only-of-type {\n",
       "        vertical-align: middle;\n",
       "    }\n",
       "\n",
       "    .dataframe tbody tr th {\n",
       "        vertical-align: top;\n",
       "    }\n",
       "\n",
       "    .dataframe thead th {\n",
       "        text-align: right;\n",
       "    }\n",
       "</style>\n",
       "<table border=\"1\" class=\"dataframe\">\n",
       "  <thead>\n",
       "    <tr style=\"text-align: right;\">\n",
       "      <th></th>\n",
       "      <th>Reviews</th>\n",
       "      <th>summary_gemini_v1</th>\n",
       "    </tr>\n",
       "  </thead>\n",
       "  <tbody>\n",
       "    <tr>\n",
       "      <th>0</th>\n",
       "      <td>Normally, I wouldn't bother to contribute my t...</td>\n",
       "      <td>The reviewer considers \"Pulp Fiction\" the best...</td>\n",
       "    </tr>\n",
       "    <tr>\n",
       "      <th>1</th>\n",
       "      <td>This film is simply pure Art. Something to jus...</td>\n",
       "      <td>The reviewer considers the film a masterpiece ...</td>\n",
       "    </tr>\n",
       "    <tr>\n",
       "      <th>2</th>\n",
       "      <td>There is not much that can be said about Pulp ...</td>\n",
       "      <td>Despite a minor quibble with Bruce Willis's ro...</td>\n",
       "    </tr>\n",
       "    <tr>\n",
       "      <th>3</th>\n",
       "      <td>Well I had heard a lot about this movie earlie...</td>\n",
       "      <td>The reviewer found the film to be disappointin...</td>\n",
       "    </tr>\n",
       "    <tr>\n",
       "      <th>4</th>\n",
       "      <td>I'm not into writing reviews, but IMDb asked m...</td>\n",
       "      <td>Despite a dismissive and rambling tone, the re...</td>\n",
       "    </tr>\n",
       "  </tbody>\n",
       "</table>\n",
       "</div>"
      ],
      "text/plain": [
       "                                             Reviews  \\\n",
       "0  Normally, I wouldn't bother to contribute my t...   \n",
       "1  This film is simply pure Art. Something to jus...   \n",
       "2  There is not much that can be said about Pulp ...   \n",
       "3  Well I had heard a lot about this movie earlie...   \n",
       "4  I'm not into writing reviews, but IMDb asked m...   \n",
       "\n",
       "                                   summary_gemini_v1  \n",
       "0  The reviewer considers \"Pulp Fiction\" the best...  \n",
       "1  The reviewer considers the film a masterpiece ...  \n",
       "2  Despite a minor quibble with Bruce Willis's ro...  \n",
       "3  The reviewer found the film to be disappointin...  \n",
       "4  Despite a dismissive and rambling tone, the re...  "
      ]
     },
     "metadata": {},
     "output_type": "display_data"
    }
   ],
   "source": [
    "SUBSET_TEXT_COL = \"Reviews\" if \"Reviews\" in subset.columns else (\n",
    "    \"review\" if \"review\" in subset.columns else subset.columns[0]\n",
    ")\n",
    "\n",
    "\n",
    "texts = subset[SUBSET_TEXT_COL]\n",
    "\n",
    "summary_v1_gemini = [\n",
    "    gemini_safe(summary_v1(txt)) for txt in tqdm.tqdm(texts, desc=\"sum_v1 • Gemini\")\n",
    "]\n",
    "\n",
    "df_sum_gem = pd.DataFrame({\n",
    "    SUBSET_TEXT_COL: texts,\n",
    "    \"summary_gemini_v1\": summary_v1_gemini,\n",
    "})\n",
    "df_sum_gem.to_csv(\"subset_summary_v1_gemini.csv\", index=False)\n",
    "display(df_sum_gem.head())\n"
   ]
  },
  {
   "cell_type": "markdown",
   "id": "4027f5ce",
   "metadata": {},
   "source": [
    "## Inference with Prompt v1 - OpenAI (GPT-4.1 nano)\n"
   ]
  },
  {
   "cell_type": "code",
   "execution_count": null,
   "id": "92202fd2",
   "metadata": {},
   "outputs": [
    {
     "name": "stderr",
     "output_type": "stream",
     "text": [
      "sum_v1 • OpenAI: 100%|██████████| 20/20 [00:17<00:00,  1.18it/s]\n"
     ]
    },
    {
     "data": {
      "text/html": [
       "<div>\n",
       "<style scoped>\n",
       "    .dataframe tbody tr th:only-of-type {\n",
       "        vertical-align: middle;\n",
       "    }\n",
       "\n",
       "    .dataframe tbody tr th {\n",
       "        vertical-align: top;\n",
       "    }\n",
       "\n",
       "    .dataframe thead th {\n",
       "        text-align: right;\n",
       "    }\n",
       "</style>\n",
       "<table border=\"1\" class=\"dataframe\">\n",
       "  <thead>\n",
       "    <tr style=\"text-align: right;\">\n",
       "      <th></th>\n",
       "      <th>Reviews</th>\n",
       "      <th>summary_gemini_v1</th>\n",
       "      <th>summary_openai_v1</th>\n",
       "    </tr>\n",
       "  </thead>\n",
       "  <tbody>\n",
       "    <tr>\n",
       "      <th>0</th>\n",
       "      <td>Normally, I wouldn't bother to contribute my t...</td>\n",
       "      <td>The reviewer considers \"Pulp Fiction\" the best...</td>\n",
       "      <td>The reviewer passionately defends *Pulp Fictio...</td>\n",
       "    </tr>\n",
       "    <tr>\n",
       "      <th>1</th>\n",
       "      <td>This film is simply pure Art. Something to jus...</td>\n",
       "      <td>The reviewer considers the film a masterpiece ...</td>\n",
       "      <td>The reviewer praises the film as a captivating...</td>\n",
       "    </tr>\n",
       "    <tr>\n",
       "      <th>2</th>\n",
       "      <td>There is not much that can be said about Pulp ...</td>\n",
       "      <td>Despite a minor quibble with Bruce Willis's ro...</td>\n",
       "      <td>The reviewer praises *Pulp Fiction* as a cinem...</td>\n",
       "    </tr>\n",
       "    <tr>\n",
       "      <th>3</th>\n",
       "      <td>Well I had heard a lot about this movie earlie...</td>\n",
       "      <td>The reviewer found the film to be disappointin...</td>\n",
       "      <td>The reviewer considers the movie below average...</td>\n",
       "    </tr>\n",
       "    <tr>\n",
       "      <th>4</th>\n",
       "      <td>I'm not into writing reviews, but IMDb asked m...</td>\n",
       "      <td>Despite a dismissive and rambling tone, the re...</td>\n",
       "      <td>The reviewer finds \"Pulp Fiction\" highly enter...</td>\n",
       "    </tr>\n",
       "  </tbody>\n",
       "</table>\n",
       "</div>"
      ],
      "text/plain": [
       "                                             Reviews  \\\n",
       "0  Normally, I wouldn't bother to contribute my t...   \n",
       "1  This film is simply pure Art. Something to jus...   \n",
       "2  There is not much that can be said about Pulp ...   \n",
       "3  Well I had heard a lot about this movie earlie...   \n",
       "4  I'm not into writing reviews, but IMDb asked m...   \n",
       "\n",
       "                                   summary_gemini_v1  \\\n",
       "0  The reviewer considers \"Pulp Fiction\" the best...   \n",
       "1  The reviewer considers the film a masterpiece ...   \n",
       "2  Despite a minor quibble with Bruce Willis's ro...   \n",
       "3  The reviewer found the film to be disappointin...   \n",
       "4  Despite a dismissive and rambling tone, the re...   \n",
       "\n",
       "                                   summary_openai_v1  \n",
       "0  The reviewer passionately defends *Pulp Fictio...  \n",
       "1  The reviewer praises the film as a captivating...  \n",
       "2  The reviewer praises *Pulp Fiction* as a cinem...  \n",
       "3  The reviewer considers the movie below average...  \n",
       "4  The reviewer finds \"Pulp Fiction\" highly enter...  "
      ]
     },
     "metadata": {},
     "output_type": "display_data"
    }
   ],
   "source": [
    "\n",
    "summary_v1_openai = [\n",
    "    call_openai(summary_v1(txt)) for txt in tqdm.tqdm(texts, desc=\"sum_v1 • OpenAI\")\n",
    "]\n",
    "\n",
    "df_sum_oa = pd.DataFrame({\n",
    "    SUBSET_TEXT_COL: texts,\n",
    "    \"summary_openai_v1\": summary_v1_openai,\n",
    "})\n",
    "df_sum_oa.to_csv(\"subset_summary_v1_openai.csv\", index=False)\n",
    "\n",
    "\n",
    "df_sum_all = pd.read_csv(\"subset_summary_v1_gemini.csv\").merge(\n",
    "    df_sum_oa, on=SUBSET_TEXT_COL, how=\"left\"\n",
    ")\n",
    "df_sum_all.to_csv(\"subset_summary_v1_outputs.csv\", index=False)\n",
    "display(df_sum_all.head())\n"
   ]
  },
  {
   "cell_type": "markdown",
   "id": "6f3c9542",
   "metadata": {},
   "source": [
    "## Prompt v2"
   ]
  },
  {
   "cell_type": "markdown",
   "id": "d665a56e",
   "metadata": {},
   "source": [
    "**Rationale:** V2 refines the verbose v1 baseline by enforcing four key constraints: a strict two-sentence limit for uniform length, a 35-word cap for conciseness, a sentiment-first rule for clarity, and a paraphrase restriction to enhance abstraction. These refinements ensure structured, readable, and faithful summaries."
   ]
  },
  {
   "cell_type": "code",
   "execution_count": null,
   "id": "a2bf5953",
   "metadata": {},
   "outputs": [],
   "source": [
    "def summary_v2(review_text: str) -> str:\n",
    "    return textwrap.dedent(f\"\"\"\\\n",
    "        You are a film-review analyst.\n",
    "\n",
    "        Write **exactly two sentences** (≤ 35 words total) summarizing the review.  \n",
    "        • Mention 1–2 key reasons (acting, pacing, dialogue, etc.).  \n",
    "        • Paraphrase—do **not** copy more than four consecutive words from the review.\n",
    "\n",
    "        Review:\n",
    "        \\\"\\\"\\\"{review_text}\\\"\\\"\\\"\"\"\")\n"
   ]
  },
  {
   "cell_type": "markdown",
   "id": "46fa8569",
   "metadata": {},
   "source": [
    "## Inference with Prompt v2 - Gemini Flash\n"
   ]
  },
  {
   "cell_type": "code",
   "execution_count": null,
   "id": "28fad0b1",
   "metadata": {},
   "outputs": [
    {
     "name": "stderr",
     "output_type": "stream",
     "text": [
      "sum_v2 • Gemini: 100%|██████████| 20/20 [01:04<00:00,  3.24s/it]\n"
     ]
    }
   ],
   "source": [
    "\n",
    "summary_v2_gemini = [\n",
    "    gemini_safe(summary_v2(txt)) for txt in tqdm.tqdm(texts, desc=\"sum_v2 • Gemini\")\n",
    "]\n",
    "\n",
    "pd.DataFrame({\n",
    "    SUBSET_TEXT_COL: texts,\n",
    "    \"summary_gemini_v2\": summary_v2_gemini,\n",
    "}).to_csv(\"subset_summary_v2_gemini.csv\", index=False)\n"
   ]
  },
  {
   "cell_type": "markdown",
   "id": "85b646b7",
   "metadata": {},
   "source": [
    "## Inference with Prompt v2 - OpenAI (GPT-4.1 nano)"
   ]
  },
  {
   "cell_type": "code",
   "execution_count": 67,
   "id": "28fad0b1",
   "metadata": {},
   "outputs": [
    {
     "name": "stderr",
     "output_type": "stream",
     "text": [
      "sum_v2 • OpenAI: 100%|██████████| 20/20 [00:14<00:00,  1.36it/s]\n"
     ]
    },
    {
     "data": {
      "text/html": [
       "<div>\n",
       "<style scoped>\n",
       "    .dataframe tbody tr th:only-of-type {\n",
       "        vertical-align: middle;\n",
       "    }\n",
       "\n",
       "    .dataframe tbody tr th {\n",
       "        vertical-align: top;\n",
       "    }\n",
       "\n",
       "    .dataframe thead th {\n",
       "        text-align: right;\n",
       "    }\n",
       "</style>\n",
       "<table border=\"1\" class=\"dataframe\">\n",
       "  <thead>\n",
       "    <tr style=\"text-align: right;\">\n",
       "      <th></th>\n",
       "      <th>Reviews</th>\n",
       "      <th>summary_gemini_v2</th>\n",
       "      <th>summary_openai_v2</th>\n",
       "    </tr>\n",
       "  </thead>\n",
       "  <tbody>\n",
       "    <tr>\n",
       "      <th>0</th>\n",
       "      <td>Normally, I wouldn't bother to contribute my t...</td>\n",
       "      <td>Positive.  The reviewer praises the film's sup...</td>\n",
       "      <td>Positive. The review praises the acting, direc...</td>\n",
       "    </tr>\n",
       "    <tr>\n",
       "      <th>1</th>\n",
       "      <td>This film is simply pure Art. Something to jus...</td>\n",
       "      <td>Positive.  The reviewer praises the film as a ...</td>\n",
       "      <td>Positive: The film is a captivating piece of a...</td>\n",
       "    </tr>\n",
       "    <tr>\n",
       "      <th>2</th>\n",
       "      <td>There is not much that can be said about Pulp ...</td>\n",
       "      <td>Positive.  Exceptional acting and memorable ch...</td>\n",
       "      <td>Positive. The review praises the acting, dialo...</td>\n",
       "    </tr>\n",
       "    <tr>\n",
       "      <th>3</th>\n",
       "      <td>Well I had heard a lot about this movie earlie...</td>\n",
       "      <td>Negative.  Poor storytelling and underdevelope...</td>\n",
       "      <td>Negative. The film suffers from a dull story a...</td>\n",
       "    </tr>\n",
       "    <tr>\n",
       "      <th>4</th>\n",
       "      <td>I'm not into writing reviews, but IMDb asked m...</td>\n",
       "      <td>Positive.  Despite a rambling, unfocused style...</td>\n",
       "      <td>Negative. The review criticizes the film's pac...</td>\n",
       "    </tr>\n",
       "  </tbody>\n",
       "</table>\n",
       "</div>"
      ],
      "text/plain": [
       "                                             Reviews  \\\n",
       "0  Normally, I wouldn't bother to contribute my t...   \n",
       "1  This film is simply pure Art. Something to jus...   \n",
       "2  There is not much that can be said about Pulp ...   \n",
       "3  Well I had heard a lot about this movie earlie...   \n",
       "4  I'm not into writing reviews, but IMDb asked m...   \n",
       "\n",
       "                                   summary_gemini_v2  \\\n",
       "0  Positive.  The reviewer praises the film's sup...   \n",
       "1  Positive.  The reviewer praises the film as a ...   \n",
       "2  Positive.  Exceptional acting and memorable ch...   \n",
       "3  Negative.  Poor storytelling and underdevelope...   \n",
       "4  Positive.  Despite a rambling, unfocused style...   \n",
       "\n",
       "                                   summary_openai_v2  \n",
       "0  Positive. The review praises the acting, direc...  \n",
       "1  Positive: The film is a captivating piece of a...  \n",
       "2  Positive. The review praises the acting, dialo...  \n",
       "3  Negative. The film suffers from a dull story a...  \n",
       "4  Negative. The review criticizes the film's pac...  "
      ]
     },
     "metadata": {},
     "output_type": "display_data"
    }
   ],
   "source": [
    "\n",
    "summary_v2_openai = [\n",
    "    call_openai(summary_v2(txt)) for txt in tqdm.tqdm(texts, desc=\"sum_v2 • OpenAI\")\n",
    "]\n",
    "\n",
    "pd.DataFrame({\n",
    "    SUBSET_TEXT_COL: texts,\n",
    "    \"summary_openai_v2\": summary_v2_openai,\n",
    "}).to_csv(\"subset_summary_v2_openai.csv\", index=False)\n",
    "\n",
    "\n",
    "df_sum_v2 = pd.read_csv(\"subset_summary_v2_gemini.csv\").merge(\n",
    "    pd.read_csv(\"subset_summary_v2_openai.csv\"), on=SUBSET_TEXT_COL, how=\"left\"\n",
    ")\n",
    "df_sum_v2.to_csv(\"subset_summary_v2_outputs.csv\", index=False)\n",
    "display(df_sum_v2.head())\n",
    "\n"
   ]
  },
  {
   "cell_type": "markdown",
   "id": "ed72b559",
   "metadata": {},
   "source": [
    "## Prompt v3"
   ]
  },
  {
   "cell_type": "markdown",
   "id": "225f1cb9",
   "metadata": {},
   "source": [
    "The **rationale** for v3 builds on the refinements of v1 and v2 to enhance precision, structure, and readability in summaries. By introducing a few-shot approach with clear positive and negative examples, v3 ensures the model grasps sentiment expression in natural language. The strict two-sentence limit and ≤ 30-word cap prevent excessive detail while maintaining clarity. "
   ]
  },
  {
   "cell_type": "code",
   "execution_count": null,
   "id": "05eb0e55",
   "metadata": {},
   "outputs": [],
   "source": [
    "def summary_v3(review_text: str) -> str:\n",
    "    return textwrap.dedent(f\"\"\"\\\n",
    "        You are a film-review analyst.\n",
    "\n",
    "        ### Examples\n",
    "        Review: \"The acting was wooden and the plot a mess.\"  \n",
    "        Summary: A harsh review calling the acting wooden and the plot chaotic.\n",
    "\n",
    "        Review: \"Smart script, flawless pacing, and unforgettable characters!\"  \n",
    "        Summary: An enthusiastic review praising sharp writing, tight pacing, and memorable characters.\n",
    "\n",
    "        ### Instructions\n",
    "        • Write **exactly two sentences** and keep the total length **under 30 words**.  \n",
    "        • Convey the overall opinion (positive or negative) in natural language, then state one or two concrete reasons (acting, pacing, dialogue, etc.).  \n",
    "        • Paraphrase—do **not** copy more than four consecutive words from the review.  \n",
    "        • Output only your two sentences; anything after the second period will be ignored.\n",
    "\n",
    "        Review:\n",
    "        \\\"\\\"\\\"{review_text}\\\"\\\"\\\"\"\"\")\n"
   ]
  },
  {
   "cell_type": "markdown",
   "id": "096a0143",
   "metadata": {},
   "source": [
    "## Inference with Prompt v3 - Gemini Flash"
   ]
  },
  {
   "cell_type": "code",
   "execution_count": null,
   "id": "c580b043",
   "metadata": {},
   "outputs": [
    {
     "name": "stderr",
     "output_type": "stream",
     "text": [
      "sum_v3 • Gemini: 100%|██████████| 20/20 [01:04<00:00,  3.24s/it]\n"
     ]
    }
   ],
   "source": [
    "\n",
    "summary_v3_gemini = [\n",
    "    gemini_safe(summary_v3(txt)) for txt in tqdm.tqdm(texts, desc=\"sum_v3 • Gemini\")\n",
    "]\n",
    "\n",
    "pd.DataFrame({\n",
    "    SUBSET_TEXT_COL: texts,\n",
    "    \"summary_gemini_v3\": summary_v3_gemini,\n",
    "}).to_csv(\"subset_summary_v3_gemini.csv\", index=False)\n",
    "\n"
   ]
  },
  {
   "cell_type": "markdown",
   "id": "3f012239",
   "metadata": {},
   "source": [
    "## Inference with Prompt v3 - OpenAI (GPT-4.1 nano)"
   ]
  },
  {
   "cell_type": "code",
   "execution_count": null,
   "id": "4f320c80",
   "metadata": {},
   "outputs": [
    {
     "name": "stderr",
     "output_type": "stream",
     "text": [
      "sum_v3 • OpenAI: 100%|██████████| 20/20 [00:22<00:00,  1.14s/it]\n"
     ]
    }
   ],
   "source": [
    "\n",
    "summary_v3_openai = [\n",
    "    call_openai(summary_v3(txt)) for txt in tqdm.tqdm(texts, desc=\"sum_v3 • OpenAI\")\n",
    "]\n",
    "\n",
    "pd.DataFrame({\n",
    "    SUBSET_TEXT_COL: texts,\n",
    "    \"summary_openai_v3\": summary_v3_openai,\n",
    "}).to_csv(\"subset_summary_v3_openai.csv\", index=False)\n",
    "\n",
    "\n"
   ]
  },
  {
   "cell_type": "markdown",
   "id": "2c401883",
   "metadata": {},
   "source": [
    "Merge and review\n"
   ]
  },
  {
   "cell_type": "code",
   "execution_count": 23,
   "id": "57616cfd",
   "metadata": {},
   "outputs": [
    {
     "data": {
      "text/html": [
       "<div>\n",
       "<style scoped>\n",
       "    .dataframe tbody tr th:only-of-type {\n",
       "        vertical-align: middle;\n",
       "    }\n",
       "\n",
       "    .dataframe tbody tr th {\n",
       "        vertical-align: top;\n",
       "    }\n",
       "\n",
       "    .dataframe thead th {\n",
       "        text-align: right;\n",
       "    }\n",
       "</style>\n",
       "<table border=\"1\" class=\"dataframe\">\n",
       "  <thead>\n",
       "    <tr style=\"text-align: right;\">\n",
       "      <th></th>\n",
       "      <th>Reviews</th>\n",
       "      <th>summary_gemini_v3</th>\n",
       "      <th>summary_openai_v3</th>\n",
       "    </tr>\n",
       "  </thead>\n",
       "  <tbody>\n",
       "    <tr>\n",
       "      <th>0</th>\n",
       "      <td>Normally, I wouldn't bother to contribute my t...</td>\n",
       "      <td>A rave review; the acting and direction were s...</td>\n",
       "      <td>The review is highly positive, praising the fi...</td>\n",
       "    </tr>\n",
       "    <tr>\n",
       "      <th>1</th>\n",
       "      <td>This film is simply pure Art. Something to jus...</td>\n",
       "      <td>A rave review; the artistry and execution are ...</td>\n",
       "      <td>The film is a stunning piece of art that offer...</td>\n",
       "    </tr>\n",
       "    <tr>\n",
       "      <th>2</th>\n",
       "      <td>There is not much that can be said about Pulp ...</td>\n",
       "      <td>A masterpiece with iconic performances.  The s...</td>\n",
       "      <td>The review is highly positive, praising the ac...</td>\n",
       "    </tr>\n",
       "    <tr>\n",
       "      <th>3</th>\n",
       "      <td>Well I had heard a lot about this movie earlie...</td>\n",
       "      <td>A disappointing film overall; the plot was bor...</td>\n",
       "      <td>The overall opinion is negative, criticizing t...</td>\n",
       "    </tr>\n",
       "    <tr>\n",
       "      <th>4</th>\n",
       "      <td>I'm not into writing reviews, but IMDb asked m...</td>\n",
       "      <td>A positive review despite the author's relucta...</td>\n",
       "      <td>The review is humorous and sarcastic, highligh...</td>\n",
       "    </tr>\n",
       "  </tbody>\n",
       "</table>\n",
       "</div>"
      ],
      "text/plain": [
       "                                             Reviews  \\\n",
       "0  Normally, I wouldn't bother to contribute my t...   \n",
       "1  This film is simply pure Art. Something to jus...   \n",
       "2  There is not much that can be said about Pulp ...   \n",
       "3  Well I had heard a lot about this movie earlie...   \n",
       "4  I'm not into writing reviews, but IMDb asked m...   \n",
       "\n",
       "                                   summary_gemini_v3  \\\n",
       "0  A rave review; the acting and direction were s...   \n",
       "1  A rave review; the artistry and execution are ...   \n",
       "2  A masterpiece with iconic performances.  The s...   \n",
       "3  A disappointing film overall; the plot was bor...   \n",
       "4  A positive review despite the author's relucta...   \n",
       "\n",
       "                                   summary_openai_v3  \n",
       "0  The review is highly positive, praising the fi...  \n",
       "1  The film is a stunning piece of art that offer...  \n",
       "2  The review is highly positive, praising the ac...  \n",
       "3  The overall opinion is negative, criticizing t...  \n",
       "4  The review is humorous and sarcastic, highligh...  "
      ]
     },
     "metadata": {},
     "output_type": "display_data"
    }
   ],
   "source": [
    "\n",
    "df_gem = pd.read_csv(\"subset_summary_v3_gemini.csv\")\n",
    "df_oa  = pd.read_csv(\"subset_summary_v3_openai.csv\")\n",
    "\n",
    "\n",
    "df_merged = df_gem.merge(df_oa, on=\"Reviews\", how=\"left\")\n",
    "\n",
    "# Save and preview\n",
    "df_merged.to_csv(\"subset_summary_v3_outputs.csv\", index=False)\n",
    "display(df_merged.head())\n"
   ]
  },
  {
   "cell_type": "markdown",
   "id": "c57b9f43",
   "metadata": {},
   "source": [
    "## Save the 20-review subset for manual labeling"
   ]
  },
  {
   "cell_type": "code",
   "execution_count": null,
   "id": "291a5d90",
   "metadata": {},
   "outputs": [
    {
     "data": {
      "text/html": [
       "<div>\n",
       "<style scoped>\n",
       "    .dataframe tbody tr th:only-of-type {\n",
       "        vertical-align: middle;\n",
       "    }\n",
       "\n",
       "    .dataframe tbody tr th {\n",
       "        vertical-align: top;\n",
       "    }\n",
       "\n",
       "    .dataframe thead th {\n",
       "        text-align: right;\n",
       "    }\n",
       "</style>\n",
       "<table border=\"1\" class=\"dataframe\">\n",
       "  <thead>\n",
       "    <tr style=\"text-align: right;\">\n",
       "      <th></th>\n",
       "      <th>Reviews</th>\n",
       "      <th>summary_gemini_v3</th>\n",
       "      <th>summary_openai_v3</th>\n",
       "      <th>gold_summary</th>\n",
       "    </tr>\n",
       "  </thead>\n",
       "  <tbody>\n",
       "    <tr>\n",
       "      <th>0</th>\n",
       "      <td>Normally, I wouldn't bother to contribute my t...</td>\n",
       "      <td>A rave review; the acting and direction were s...</td>\n",
       "      <td>The review is highly positive, praising the fi...</td>\n",
       "      <td></td>\n",
       "    </tr>\n",
       "    <tr>\n",
       "      <th>1</th>\n",
       "      <td>This film is simply pure Art. Something to jus...</td>\n",
       "      <td>A rave review; the artistry and execution are ...</td>\n",
       "      <td>The film is a stunning piece of art that offer...</td>\n",
       "      <td></td>\n",
       "    </tr>\n",
       "    <tr>\n",
       "      <th>2</th>\n",
       "      <td>There is not much that can be said about Pulp ...</td>\n",
       "      <td>A masterpiece with iconic performances.  The s...</td>\n",
       "      <td>The review is highly positive, praising the ac...</td>\n",
       "      <td></td>\n",
       "    </tr>\n",
       "    <tr>\n",
       "      <th>3</th>\n",
       "      <td>Well I had heard a lot about this movie earlie...</td>\n",
       "      <td>A disappointing film overall; the plot was bor...</td>\n",
       "      <td>The overall opinion is negative, criticizing t...</td>\n",
       "      <td></td>\n",
       "    </tr>\n",
       "    <tr>\n",
       "      <th>4</th>\n",
       "      <td>I'm not into writing reviews, but IMDb asked m...</td>\n",
       "      <td>A positive review despite the author's relucta...</td>\n",
       "      <td>The review is humorous and sarcastic, highligh...</td>\n",
       "      <td></td>\n",
       "    </tr>\n",
       "  </tbody>\n",
       "</table>\n",
       "</div>"
      ],
      "text/plain": [
       "                                             Reviews  \\\n",
       "0  Normally, I wouldn't bother to contribute my t...   \n",
       "1  This film is simply pure Art. Something to jus...   \n",
       "2  There is not much that can be said about Pulp ...   \n",
       "3  Well I had heard a lot about this movie earlie...   \n",
       "4  I'm not into writing reviews, but IMDb asked m...   \n",
       "\n",
       "                                   summary_gemini_v3  \\\n",
       "0  A rave review; the acting and direction were s...   \n",
       "1  A rave review; the artistry and execution are ...   \n",
       "2  A masterpiece with iconic performances.  The s...   \n",
       "3  A disappointing film overall; the plot was bor...   \n",
       "4  A positive review despite the author's relucta...   \n",
       "\n",
       "                                   summary_openai_v3 gold_summary  \n",
       "0  The review is highly positive, praising the fi...               \n",
       "1  The film is a stunning piece of art that offer...               \n",
       "2  The review is highly positive, praising the ac...               \n",
       "3  The overall opinion is negative, criticizing t...               \n",
       "4  The review is humorous and sarcastic, highligh...               "
      ]
     },
     "metadata": {},
     "output_type": "display_data"
    }
   ],
   "source": [
    "\n",
    "\n",
    "df_sum_v3 = pd.read_csv(\"subset_summary_v3_outputs.csv\")\n",
    "\n",
    "\n",
    "df_sum_v3[\"gold_summary\"] = \"\"\n",
    "\n",
    "\n",
    "df_sum_v3.to_csv(\"subset_summary_for_labeling.csv\", index=False)\n",
    "display(df_sum_v3.head())\n"
   ]
  },
  {
   "cell_type": "markdown",
   "id": "557d2de2",
   "metadata": {},
   "source": [
    "## Evaluation"
   ]
  },
  {
   "cell_type": "code",
   "execution_count": null,
   "id": "2a443a06",
   "metadata": {},
   "outputs": [
    {
     "name": "stdout",
     "output_type": "stream",
     "text": [
      "### Task C Summary Leaderboard (ROUGE-L F1) ###\n"
     ]
    },
    {
     "data": {
      "text/html": [
       "<style type=\"text/css\">\n",
       "</style>\n",
       "<table id=\"T_27c2d\">\n",
       "  <thead>\n",
       "    <tr>\n",
       "      <th class=\"blank level0\" >&nbsp;</th>\n",
       "      <th id=\"T_27c2d_level0_col0\" class=\"col_heading level0 col0\" >prompt_version</th>\n",
       "      <th id=\"T_27c2d_level0_col1\" class=\"col_heading level0 col1\" >model</th>\n",
       "      <th id=\"T_27c2d_level0_col2\" class=\"col_heading level0 col2\" >rougeL_f1</th>\n",
       "    </tr>\n",
       "  </thead>\n",
       "  <tbody>\n",
       "    <tr>\n",
       "      <th id=\"T_27c2d_level0_row0\" class=\"row_heading level0 row0\" >2</th>\n",
       "      <td id=\"T_27c2d_row0_col0\" class=\"data row0 col0\" >v2</td>\n",
       "      <td id=\"T_27c2d_row0_col1\" class=\"data row0 col1\" >gemini</td>\n",
       "      <td id=\"T_27c2d_row0_col2\" class=\"data row0 col2\" >0.216</td>\n",
       "    </tr>\n",
       "    <tr>\n",
       "      <th id=\"T_27c2d_level0_row1\" class=\"row_heading level0 row1\" >5</th>\n",
       "      <td id=\"T_27c2d_row1_col0\" class=\"data row1 col0\" >v3</td>\n",
       "      <td id=\"T_27c2d_row1_col1\" class=\"data row1 col1\" >openai</td>\n",
       "      <td id=\"T_27c2d_row1_col2\" class=\"data row1 col2\" >0.209</td>\n",
       "    </tr>\n",
       "    <tr>\n",
       "      <th id=\"T_27c2d_level0_row2\" class=\"row_heading level0 row2\" >1</th>\n",
       "      <td id=\"T_27c2d_row2_col0\" class=\"data row2 col0\" >v1</td>\n",
       "      <td id=\"T_27c2d_row2_col1\" class=\"data row2 col1\" >openai</td>\n",
       "      <td id=\"T_27c2d_row2_col2\" class=\"data row2 col2\" >0.205</td>\n",
       "    </tr>\n",
       "    <tr>\n",
       "      <th id=\"T_27c2d_level0_row3\" class=\"row_heading level0 row3\" >3</th>\n",
       "      <td id=\"T_27c2d_row3_col0\" class=\"data row3 col0\" >v2</td>\n",
       "      <td id=\"T_27c2d_row3_col1\" class=\"data row3 col1\" >openai</td>\n",
       "      <td id=\"T_27c2d_row3_col2\" class=\"data row3 col2\" >0.201</td>\n",
       "    </tr>\n",
       "    <tr>\n",
       "      <th id=\"T_27c2d_level0_row4\" class=\"row_heading level0 row4\" >0</th>\n",
       "      <td id=\"T_27c2d_row4_col0\" class=\"data row4 col0\" >v1</td>\n",
       "      <td id=\"T_27c2d_row4_col1\" class=\"data row4 col1\" >gemini</td>\n",
       "      <td id=\"T_27c2d_row4_col2\" class=\"data row4 col2\" >0.197</td>\n",
       "    </tr>\n",
       "    <tr>\n",
       "      <th id=\"T_27c2d_level0_row5\" class=\"row_heading level0 row5\" >4</th>\n",
       "      <td id=\"T_27c2d_row5_col0\" class=\"data row5 col0\" >v3</td>\n",
       "      <td id=\"T_27c2d_row5_col1\" class=\"data row5 col1\" >gemini</td>\n",
       "      <td id=\"T_27c2d_row5_col2\" class=\"data row5 col2\" >0.185</td>\n",
       "    </tr>\n",
       "  </tbody>\n",
       "</table>\n"
      ],
      "text/plain": [
       "<pandas.io.formats.style.Styler at 0x1c93fb4bfe0>"
      ]
     },
     "metadata": {},
     "output_type": "display_data"
    }
   ],
   "source": [
    "\n",
    "from rouge_score import rouge_scorer\n",
    "\n",
    "\n",
    "df_gold = pd.read_csv(\"subset_summary_for_labeling.csv\", encoding=\"latin-1\")\n",
    "refs    = df_gold[\"gold_summary\"].astype(str).tolist()\n",
    "\n",
    "\n",
    "files = {\n",
    "    (\"v1\", \"gemini\"): \"subset_summary_v1_gemini.csv\",\n",
    "    (\"v1\", \"openai\"): \"subset_summary_v1_openai.csv\",\n",
    "    (\"v2\", \"gemini\"): \"subset_summary_v2_gemini.csv\",\n",
    "    (\"v2\", \"openai\"): \"subset_summary_v2_openai.csv\",\n",
    "    (\"v3\", \"gemini\"): \"subset_summary_v3_gemini.csv\",\n",
    "    (\"v3\", \"openai\"): \"subset_summary_v3_openai.csv\",\n",
    "}\n",
    "\n",
    "#ROUGE-L scorer\n",
    "scorer = rouge_scorer.RougeScorer([\"rougeL\"], use_stemmer=True)\n",
    "\n",
    "def avg_rouge_l(hyps):\n",
    "    scores = []\n",
    "    for ref, hyp in zip(refs, hyps):\n",
    "        sc = scorer.score(ref, hyp or \"\")[\"rougeL\"].fmeasure\n",
    "        scores.append(sc)\n",
    "    return round(sum(scores) / len(scores), 3)\n",
    "\n",
    "#Build leaderboard\n",
    "records = []\n",
    "for (ver, model), path in files.items():\n",
    "    df_pred = pd.read_csv(path, encoding=\"latin-1\")\n",
    "    col = [c for c in df_pred.columns if c.startswith(\"summary_\") and ver in c][0]\n",
    "    hyps = df_pred[col].astype(str).tolist()\n",
    "    rouge_l = avg_rouge_l(hyps)\n",
    "    records.append({\n",
    "        \"prompt_version\": ver,\n",
    "        \"model\": model,\n",
    "        \"rougeL_f1\": rouge_l\n",
    "    })\n",
    "\n",
    "leader = pd.DataFrame(records).sort_values(\"rougeL_f1\", ascending=False)\n",
    "print(\"### Task C Summary Leaderboard (ROUGE-L F1) ###\")\n",
    "display(leader.style.format({\"rougeL_f1\":\"{:.3f}\"}))\n",
    "leader.to_csv(\"summary_leaderboard.csv\", index=False)\n",
    "\n"
   ]
  },
  {
   "cell_type": "markdown",
   "id": "ea056623",
   "metadata": {},
   "source": [
    "**Reflection:**\n",
    "\n",
    "**Best-performing prompt + model:**\n",
    "Gemini Flash with summary_v2 led with ROUGE-L 0.216. Enforcing exactly two sentences, a 35-word cap, and urging paraphrasing struck a good balance between brevity and fidelity. OpenAI’s v3 runner-up (0.209) shows that few-shot examples can approach Gemini’s performance.\n",
    "\n",
    "**Failure cases & causes:**\n",
    "1. Generic phrasing: even with strict rules, some summaries defaulted to templated language suggesting the prompt still over-relies on examples.\n",
    "2. Detail trade-off: strict word caps sometimes forced omission of salient details, reducing fidelity.\n",
    "\n",
    "**Metric limitations:**\n",
    "ROUGE-L favors n-gram overlap but doesn’t capture whether the summary truly reflects key points. Low absolute scores are typical for this task; complementing with human 1–5 fluency/fidelity ratings would give richer insight.\n",
    "\n",
    "**Deployment confidence:**\n",
    "This summarizer is good for sketching quick overviews but would benefit from a post-generation heuristic to detect templated language and, perhaps, a second pass to ensure critical facts  are included.\n",
    "\n"
   ]
  },
  {
   "cell_type": "markdown",
   "id": "3cf20514",
   "metadata": {},
   "source": [
    "## Lock in Summary Pipeline\n"
   ]
  },
  {
   "cell_type": "code",
   "execution_count": 69,
   "id": "e0074c76",
   "metadata": {},
   "outputs": [
    {
     "name": "stderr",
     "output_type": "stream",
     "text": [
      "full_summary_v2 • Gemini:   0%|          | 0/250 [00:00<?, ?it/s]"
     ]
    },
    {
     "name": "stderr",
     "output_type": "stream",
     "text": [
      "full_summary_v2 • Gemini: 100%|██████████| 250/250 [18:07<00:00,  4.35s/it] \n"
     ]
    }
   ],
   "source": [
    "\n",
    "df_full = pd.read_csv(\"Pulp Fiction (Movie) - Imdb Reviews (250).csv\")\n",
    "df_full[\"summary_gemini_v2\"] = [\n",
    "    gemini_safe(summary_v2(txt))\n",
    "    for txt in tqdm.tqdm(df_full[\"Reviews\"], desc=\"full_summary_v2 • Gemini\")\n",
    "]\n",
    "df_full.to_csv(\"reviews_with_summaries.csv\", index=False)\n",
    "\n"
   ]
  },
  {
   "cell_type": "markdown",
   "id": "fb4f103c",
   "metadata": {},
   "source": [
    "# Comparisons and Trade-offs"
   ]
  },
  {
   "cell_type": "markdown",
   "id": "5da30c05",
   "metadata": {},
   "source": [
    "| Task      | Best Model + Prompt |       Score |    Latency|    Cost |\n",
    "| --------- | ------------------- | ----------: | -----------: | --------: |\n",
    "| Sentiment | GPT-4.1-nano + v2   |     F1 0.59 | \\~0.8 s/call |  ≈\\$0.002 |\n",
    "| Phrase extraction   | GPT-4.1-nano + v3   |     F1 0.50 | \\~0.8 s/call |  ≈\\$0.002 |\n",
    "| Summary   | Gemini Flash + v2   | ROUGE 0.216 | \\~0.2 s/call | free-tier |\n"
   ]
  },
  {
   "cell_type": "markdown",
   "id": "ec492884",
   "metadata": {},
   "source": [
    "Note: Latency and cost values are approximate per 1 K tokens"
   ]
  },
  {
   "cell_type": "markdown",
   "id": "8c98730d",
   "metadata": {},
   "source": [
    "**Quality vs. cost/latency:** Gemini Flash is 4 times faster and free-tier for summary, but lags on phrase extraction. GPT-4.1-nano is more consistent across tasks at modest cost.\n",
    "\n",
    "**Strengths:** Firstly, GPT-4.1-nano excels at structured extraction and classification with clear prompts. Secondaly,Gemini Flash offers fast, cost-free summarization within strict budgets. Infact, on side note, I have used gemini flash for translating hungarian text to english that other-wise have costed 80$ with DeepL or 50$ with Open AI\n",
    "\n",
    "**Weaknesses:** Major weakness is both models struggle with rare classes (Neutral) and deep sarcasm. Also strict token or word caps can undercut fidelity in summaries."
   ]
  },
  {
   "cell_type": "markdown",
   "id": "e1d1d44b",
   "metadata": {},
   "source": [
    "# Leaderboard Table"
   ]
  },
  {
   "cell_type": "markdown",
   "id": "eb55cfec",
   "metadata": {},
   "source": [
    "| Task      | Model        | Prompt Version | Metric     | Score |\n",
    "| --------- | ------------ | -------------- | ---------- | ----- |\n",
    "| Sentiment | GPT-4.1-nano | v2             | Macro-F1   | 0.589 |\n",
    "| Phrase extraction   | GPT-4.1-nano | v3             | Token-F1   | 0.503 |\n",
    "| Summary   | Gemini Flash | v2             | ROUGE-L F1 | 0.216 |\n"
   ]
  }
 ],
 "metadata": {
  "kernelspec": {
   "display_name": "base",
   "language": "python",
   "name": "python3"
  },
  "language_info": {
   "codemirror_mode": {
    "name": "ipython",
    "version": 3
   },
   "file_extension": ".py",
   "mimetype": "text/x-python",
   "name": "python",
   "nbconvert_exporter": "python",
   "pygments_lexer": "ipython3",
   "version": "3.12.3"
  }
 },
 "nbformat": 4,
 "nbformat_minor": 5
}
